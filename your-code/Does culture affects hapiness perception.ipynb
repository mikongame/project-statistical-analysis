{
 "cells": [
  {
   "cell_type": "markdown",
   "metadata": {},
   "source": [
    "<img src=\"https://bit.ly/2VnXWr2\" width=\"100\" align=\"left\">"
   ]
  },
  {
   "cell_type": "markdown",
   "metadata": {},
   "source": [
    "# Project | Statistical Analysis: Does culture affects hapiness perception?"
   ]
  },
  {
   "cell_type": "markdown",
   "metadata": {},
   "source": [
    "## Introduction"
   ]
  },
  {
   "cell_type": "markdown",
   "metadata": {},
   "source": [
    "Hacer una intro breve"
   ]
  },
  {
   "cell_type": "markdown",
   "metadata": {},
   "source": [
    "### Objectives"
   ]
  },
  {
   "cell_type": "markdown",
   "metadata": {},
   "source": [
    "We wanted to see if there is relevant correlationship between being an individualistic or a colloectivistic country and how happy this country citizens are. "
   ]
  },
  {
   "cell_type": "markdown",
   "metadata": {},
   "source": [
    "### Imports"
   ]
  },
  {
   "cell_type": "code",
   "execution_count": 1,
   "metadata": {
    "ExecuteTime": {
     "end_time": "2020-03-26T15:45:18.668386Z",
     "start_time": "2020-03-26T15:45:15.660745Z"
    }
   },
   "outputs": [
    {
     "data": {
      "text/html": [
       "        <script type=\"text/javascript\">\n",
       "        window.PlotlyConfig = {MathJaxConfig: 'local'};\n",
       "        if (window.MathJax) {MathJax.Hub.Config({SVG: {font: \"STIX-Web\"}});}\n",
       "        if (typeof require !== 'undefined') {\n",
       "        require.undef(\"plotly\");\n",
       "        requirejs.config({\n",
       "            paths: {\n",
       "                'plotly': ['https://cdn.plot.ly/plotly-latest.min']\n",
       "            }\n",
       "        });\n",
       "        require(['plotly'], function(Plotly) {\n",
       "            window._Plotly = Plotly;\n",
       "        });\n",
       "        }\n",
       "        </script>\n",
       "        "
      ]
     },
     "metadata": {},
     "output_type": "display_data"
    }
   ],
   "source": [
    "import plotly.graph_objs as go\n",
    "from ipywidgets import interact\n",
    "import cufflinks as cf\n",
    "import plotly.offline as py\n",
    "import numpy as np\n",
    "import pandas as pd\n",
    "import re\n",
    "import matplotlib as mpl\n",
    "import matplotlib.pyplot as plt\n",
    "import seaborn as sns\n",
    "import scipy as sp\n",
    "import scipy.stats as stats\n",
    "%matplotlib inline\n",
    "cf.go_offline()\n",
    "\n",
    "from pandas._testing import assert_frame_equal\n",
    "from pandas_profiling import ProfileReport\n",
    "#pd.set_option(\"display.max_rows\", None)\n",
    "#pd.set_option(\"display.max_columns\", None)"
   ]
  },
  {
   "cell_type": "markdown",
   "metadata": {},
   "source": [
    "## 1. EDA"
   ]
  },
  {
   "cell_type": "markdown",
   "metadata": {},
   "source": [
    "### Hofstede's six-dimensions model (2015)"
   ]
  },
  {
   "cell_type": "markdown",
   "metadata": {
    "heading_collapsed": true
   },
   "source": [
    "#### Context"
   ]
  },
  {
   "cell_type": "markdown",
   "metadata": {
    "hidden": true
   },
   "source": [
    "**Geert Hofstede's cultural dimensions theory** proposes a method of analyzing cultures based on a handful of continuums.\n",
    "\n",
    "`Power distance index (PDI):` The power distance index is defined as “the extent to which the less powerful members of organizations and institutions (like the family) accept and expect that power is distributed unequally.”\n",
    "\n",
    "`Individualism vs. collectivism (IDV):` This index explores the “degree to which people in a society are integrated into groups.”\n",
    "\n",
    "`Uncertainty avoidance index (UAI):` The uncertainty avoidance index is defined as “a society's tolerance for ambiguity,” in which people embrace or avert an event of something unexpected, unknown, or away from the status quo.\n",
    "\n",
    "`Masculinity vs. femininity (MAS):` In this dimension, masculinity is defined as “a preference in society for achievement, heroism, assertiveness and material rewards for success.”\n",
    "\n",
    "`Long-term orientation vs. short-term orientation (LTO):` This dimension associates the connection of the past with the current and future actions/challenges.\n",
    "\n",
    "`Indulgence vs. restraint (IND):` This dimension is essentially a measure of happiness; whether or not simple joys are fulfilled.\n",
    "\n",
    "More contextual information about this model can be found in here: https://scholarworks.gvsu.edu/cgi/viewcontent.cgi?referer=https://en.wikipedia.org/&httpsredir=1&article=1014&context=orpc"
   ]
  },
  {
   "cell_type": "markdown",
   "metadata": {
    "heading_collapsed": true
   },
   "source": [
    "#### Read dataset and check head"
   ]
  },
  {
   "cell_type": "code",
   "execution_count": 2,
   "metadata": {
    "ExecuteTime": {
     "end_time": "2020-03-26T15:45:18.695312Z",
     "start_time": "2020-03-26T15:45:18.671344Z"
    },
    "cell_style": "center",
    "hidden": true
   },
   "outputs": [
    {
     "data": {
      "text/html": [
       "<div>\n",
       "<style scoped>\n",
       "    .dataframe tbody tr th:only-of-type {\n",
       "        vertical-align: middle;\n",
       "    }\n",
       "\n",
       "    .dataframe tbody tr th {\n",
       "        vertical-align: top;\n",
       "    }\n",
       "\n",
       "    .dataframe thead th {\n",
       "        text-align: right;\n",
       "    }\n",
       "</style>\n",
       "<table border=\"1\" class=\"dataframe\">\n",
       "  <thead>\n",
       "    <tr style=\"text-align: right;\">\n",
       "      <th></th>\n",
       "      <th>ctr</th>\n",
       "      <th>country</th>\n",
       "      <th>pdi</th>\n",
       "      <th>idv</th>\n",
       "      <th>mas</th>\n",
       "      <th>uai</th>\n",
       "      <th>ltowvs</th>\n",
       "      <th>ivr</th>\n",
       "    </tr>\n",
       "  </thead>\n",
       "  <tbody>\n",
       "    <tr>\n",
       "      <th>0</th>\n",
       "      <td>AFE</td>\n",
       "      <td>Africa East</td>\n",
       "      <td>64.0</td>\n",
       "      <td>27.0</td>\n",
       "      <td>41.0</td>\n",
       "      <td>52.0</td>\n",
       "      <td>32.000000</td>\n",
       "      <td>40.000000</td>\n",
       "    </tr>\n",
       "    <tr>\n",
       "      <th>1</th>\n",
       "      <td>AFW</td>\n",
       "      <td>Africa West</td>\n",
       "      <td>77.0</td>\n",
       "      <td>20.0</td>\n",
       "      <td>46.0</td>\n",
       "      <td>54.0</td>\n",
       "      <td>9.000000</td>\n",
       "      <td>78.000000</td>\n",
       "    </tr>\n",
       "    <tr>\n",
       "      <th>2</th>\n",
       "      <td>ALB</td>\n",
       "      <td>Albania</td>\n",
       "      <td>NaN</td>\n",
       "      <td>NaN</td>\n",
       "      <td>NaN</td>\n",
       "      <td>NaN</td>\n",
       "      <td>61.460957</td>\n",
       "      <td>14.508929</td>\n",
       "    </tr>\n",
       "    <tr>\n",
       "      <th>3</th>\n",
       "      <td>ALG</td>\n",
       "      <td>Algeria</td>\n",
       "      <td>NaN</td>\n",
       "      <td>NaN</td>\n",
       "      <td>NaN</td>\n",
       "      <td>NaN</td>\n",
       "      <td>25.944584</td>\n",
       "      <td>32.366071</td>\n",
       "    </tr>\n",
       "    <tr>\n",
       "      <th>4</th>\n",
       "      <td>AND</td>\n",
       "      <td>Andorra</td>\n",
       "      <td>NaN</td>\n",
       "      <td>NaN</td>\n",
       "      <td>NaN</td>\n",
       "      <td>NaN</td>\n",
       "      <td>NaN</td>\n",
       "      <td>65.000000</td>\n",
       "    </tr>\n",
       "  </tbody>\n",
       "</table>\n",
       "</div>"
      ],
      "text/plain": [
       "   ctr      country   pdi   idv   mas   uai     ltowvs        ivr\n",
       "0  AFE  Africa East  64.0  27.0  41.0  52.0  32.000000  40.000000\n",
       "1  AFW  Africa West  77.0  20.0  46.0  54.0   9.000000  78.000000\n",
       "2  ALB      Albania   NaN   NaN   NaN   NaN  61.460957  14.508929\n",
       "3  ALG      Algeria   NaN   NaN   NaN   NaN  25.944584  32.366071\n",
       "4  AND      Andorra   NaN   NaN   NaN   NaN        NaN  65.000000"
      ]
     },
     "execution_count": 2,
     "metadata": {},
     "output_type": "execute_result"
    }
   ],
   "source": [
    "cultural_dimensinality = pd.read_csv(\"data/culturaldimensions/6_dimensions_for_website.csv\")\n",
    "cultural_dimensinality.head()"
   ]
  },
  {
   "cell_type": "markdown",
   "metadata": {
    "heading_collapsed": true,
    "hidden": true
   },
   "source": [
    "##### Minor manipulation"
   ]
  },
  {
   "cell_type": "code",
   "execution_count": 3,
   "metadata": {
    "ExecuteTime": {
     "end_time": "2020-03-26T15:45:18.939989Z",
     "start_time": "2020-03-26T15:45:18.697274Z"
    },
    "hidden": true
   },
   "outputs": [
    {
     "data": {
      "text/html": [
       "<div>\n",
       "<style scoped>\n",
       "    .dataframe tbody tr th:only-of-type {\n",
       "        vertical-align: middle;\n",
       "    }\n",
       "\n",
       "    .dataframe tbody tr th {\n",
       "        vertical-align: top;\n",
       "    }\n",
       "\n",
       "    .dataframe thead th {\n",
       "        text-align: right;\n",
       "    }\n",
       "</style>\n",
       "<table border=\"1\" class=\"dataframe\">\n",
       "  <thead>\n",
       "    <tr style=\"text-align: right;\">\n",
       "      <th></th>\n",
       "      <th>ctr</th>\n",
       "      <th>country</th>\n",
       "      <th>pdi</th>\n",
       "      <th>idv</th>\n",
       "      <th>uai</th>\n",
       "      <th>mas</th>\n",
       "      <th>lto</th>\n",
       "      <th>ind</th>\n",
       "    </tr>\n",
       "  </thead>\n",
       "  <tbody>\n",
       "    <tr>\n",
       "      <th>0</th>\n",
       "      <td>AFE</td>\n",
       "      <td>Africa East</td>\n",
       "      <td>64.0</td>\n",
       "      <td>27.0</td>\n",
       "      <td>52.0</td>\n",
       "      <td>41.0</td>\n",
       "      <td>32.000000</td>\n",
       "      <td>40.000000</td>\n",
       "    </tr>\n",
       "    <tr>\n",
       "      <th>1</th>\n",
       "      <td>AFW</td>\n",
       "      <td>Africa West</td>\n",
       "      <td>77.0</td>\n",
       "      <td>20.0</td>\n",
       "      <td>54.0</td>\n",
       "      <td>46.0</td>\n",
       "      <td>9.000000</td>\n",
       "      <td>78.000000</td>\n",
       "    </tr>\n",
       "    <tr>\n",
       "      <th>2</th>\n",
       "      <td>ALB</td>\n",
       "      <td>Albania</td>\n",
       "      <td>NaN</td>\n",
       "      <td>NaN</td>\n",
       "      <td>NaN</td>\n",
       "      <td>NaN</td>\n",
       "      <td>61.460957</td>\n",
       "      <td>14.508929</td>\n",
       "    </tr>\n",
       "    <tr>\n",
       "      <th>3</th>\n",
       "      <td>ALG</td>\n",
       "      <td>Algeria</td>\n",
       "      <td>NaN</td>\n",
       "      <td>NaN</td>\n",
       "      <td>NaN</td>\n",
       "      <td>NaN</td>\n",
       "      <td>25.944584</td>\n",
       "      <td>32.366071</td>\n",
       "    </tr>\n",
       "    <tr>\n",
       "      <th>4</th>\n",
       "      <td>AND</td>\n",
       "      <td>Andorra</td>\n",
       "      <td>NaN</td>\n",
       "      <td>NaN</td>\n",
       "      <td>NaN</td>\n",
       "      <td>NaN</td>\n",
       "      <td>NaN</td>\n",
       "      <td>65.000000</td>\n",
       "    </tr>\n",
       "  </tbody>\n",
       "</table>\n",
       "</div>"
      ],
      "text/plain": [
       "   ctr      country   pdi   idv   uai   mas        lto        ind\n",
       "0  AFE  Africa East  64.0  27.0  52.0  41.0  32.000000  40.000000\n",
       "1  AFW  Africa West  77.0  20.0  54.0  46.0   9.000000  78.000000\n",
       "2  ALB      Albania   NaN   NaN   NaN   NaN  61.460957  14.508929\n",
       "3  ALG      Algeria   NaN   NaN   NaN   NaN  25.944584  32.366071\n",
       "4  AND      Andorra   NaN   NaN   NaN   NaN        NaN  65.000000"
      ]
     },
     "execution_count": 3,
     "metadata": {},
     "output_type": "execute_result"
    }
   ],
   "source": [
    "#As it can be confusing we will rename columns to its original test short-forms and keep the same order\n",
    "cultural_dimensinality.columns=[\"ctr\", \"country\", \"pdi\", \"idv\", \"mas\", \"uai\", \"lto\", \"ind\"]\n",
    "cultural_dimensinality = cultural_dimensinality[[\"ctr\", \"country\", \"pdi\", \"idv\", \"uai\", \"mas\", \"lto\", \"ind\"]]\n",
    "cultural_dimensinality.head()"
   ]
  },
  {
   "cell_type": "markdown",
   "metadata": {
    "heading_collapsed": true
   },
   "source": [
    "#### Check tail"
   ]
  },
  {
   "cell_type": "code",
   "execution_count": 28,
   "metadata": {
    "ExecuteTime": {
     "end_time": "2020-03-26T15:42:45.393816Z",
     "start_time": "2020-03-26T15:42:45.365891Z"
    },
    "hidden": true
   },
   "outputs": [
    {
     "data": {
      "text/html": [
       "<div>\n",
       "<style scoped>\n",
       "    .dataframe tbody tr th:only-of-type {\n",
       "        vertical-align: middle;\n",
       "    }\n",
       "\n",
       "    .dataframe tbody tr th {\n",
       "        vertical-align: top;\n",
       "    }\n",
       "\n",
       "    .dataframe thead th {\n",
       "        text-align: right;\n",
       "    }\n",
       "</style>\n",
       "<table border=\"1\" class=\"dataframe\">\n",
       "  <thead>\n",
       "    <tr style=\"text-align: right;\">\n",
       "      <th></th>\n",
       "      <th>ctr</th>\n",
       "      <th>country</th>\n",
       "      <th>pdi</th>\n",
       "      <th>idv</th>\n",
       "      <th>uai</th>\n",
       "      <th>mas</th>\n",
       "      <th>lto</th>\n",
       "      <th>ind</th>\n",
       "    </tr>\n",
       "  </thead>\n",
       "  <tbody>\n",
       "    <tr>\n",
       "      <th>0</th>\n",
       "      <td>AFE</td>\n",
       "      <td>Africa East</td>\n",
       "      <td>64.0</td>\n",
       "      <td>27.0</td>\n",
       "      <td>52.0</td>\n",
       "      <td>41.0</td>\n",
       "      <td>32.000000</td>\n",
       "      <td>40.000000</td>\n",
       "    </tr>\n",
       "    <tr>\n",
       "      <th>1</th>\n",
       "      <td>AFW</td>\n",
       "      <td>Africa West</td>\n",
       "      <td>77.0</td>\n",
       "      <td>20.0</td>\n",
       "      <td>54.0</td>\n",
       "      <td>46.0</td>\n",
       "      <td>9.000000</td>\n",
       "      <td>78.000000</td>\n",
       "    </tr>\n",
       "    <tr>\n",
       "      <th>2</th>\n",
       "      <td>ALB</td>\n",
       "      <td>Albania</td>\n",
       "      <td>NaN</td>\n",
       "      <td>NaN</td>\n",
       "      <td>NaN</td>\n",
       "      <td>NaN</td>\n",
       "      <td>61.460957</td>\n",
       "      <td>14.508929</td>\n",
       "    </tr>\n",
       "    <tr>\n",
       "      <th>3</th>\n",
       "      <td>ALG</td>\n",
       "      <td>Algeria</td>\n",
       "      <td>NaN</td>\n",
       "      <td>NaN</td>\n",
       "      <td>NaN</td>\n",
       "      <td>NaN</td>\n",
       "      <td>25.944584</td>\n",
       "      <td>32.366071</td>\n",
       "    </tr>\n",
       "    <tr>\n",
       "      <th>4</th>\n",
       "      <td>AND</td>\n",
       "      <td>Andorra</td>\n",
       "      <td>NaN</td>\n",
       "      <td>NaN</td>\n",
       "      <td>NaN</td>\n",
       "      <td>NaN</td>\n",
       "      <td>NaN</td>\n",
       "      <td>65.000000</td>\n",
       "    </tr>\n",
       "    <tr>\n",
       "      <th>...</th>\n",
       "      <td>...</td>\n",
       "      <td>...</td>\n",
       "      <td>...</td>\n",
       "      <td>...</td>\n",
       "      <td>...</td>\n",
       "      <td>...</td>\n",
       "      <td>...</td>\n",
       "      <td>...</td>\n",
       "    </tr>\n",
       "    <tr>\n",
       "      <th>106</th>\n",
       "      <td>URU</td>\n",
       "      <td>Uruguay</td>\n",
       "      <td>61.0</td>\n",
       "      <td>36.0</td>\n",
       "      <td>100.0</td>\n",
       "      <td>38.0</td>\n",
       "      <td>26.196474</td>\n",
       "      <td>53.348214</td>\n",
       "    </tr>\n",
       "    <tr>\n",
       "      <th>107</th>\n",
       "      <td>VEN</td>\n",
       "      <td>Venezuela</td>\n",
       "      <td>81.0</td>\n",
       "      <td>12.0</td>\n",
       "      <td>76.0</td>\n",
       "      <td>73.0</td>\n",
       "      <td>15.617128</td>\n",
       "      <td>100.000000</td>\n",
       "    </tr>\n",
       "    <tr>\n",
       "      <th>108</th>\n",
       "      <td>VIE</td>\n",
       "      <td>Vietnam</td>\n",
       "      <td>70.0</td>\n",
       "      <td>20.0</td>\n",
       "      <td>30.0</td>\n",
       "      <td>40.0</td>\n",
       "      <td>57.178841</td>\n",
       "      <td>35.491071</td>\n",
       "    </tr>\n",
       "    <tr>\n",
       "      <th>109</th>\n",
       "      <td>ZAM</td>\n",
       "      <td>Zambia</td>\n",
       "      <td>NaN</td>\n",
       "      <td>NaN</td>\n",
       "      <td>NaN</td>\n",
       "      <td>NaN</td>\n",
       "      <td>30.226700</td>\n",
       "      <td>42.187500</td>\n",
       "    </tr>\n",
       "    <tr>\n",
       "      <th>110</th>\n",
       "      <td>ZIM</td>\n",
       "      <td>Zimbabwe</td>\n",
       "      <td>NaN</td>\n",
       "      <td>NaN</td>\n",
       "      <td>NaN</td>\n",
       "      <td>NaN</td>\n",
       "      <td>15.365239</td>\n",
       "      <td>27.678571</td>\n",
       "    </tr>\n",
       "  </tbody>\n",
       "</table>\n",
       "<p>111 rows × 8 columns</p>\n",
       "</div>"
      ],
      "text/plain": [
       "     ctr      country   pdi   idv    uai   mas        lto         ind\n",
       "0    AFE  Africa East  64.0  27.0   52.0  41.0  32.000000   40.000000\n",
       "1    AFW  Africa West  77.0  20.0   54.0  46.0   9.000000   78.000000\n",
       "2    ALB      Albania   NaN   NaN    NaN   NaN  61.460957   14.508929\n",
       "3    ALG      Algeria   NaN   NaN    NaN   NaN  25.944584   32.366071\n",
       "4    AND      Andorra   NaN   NaN    NaN   NaN        NaN   65.000000\n",
       "..   ...          ...   ...   ...    ...   ...        ...         ...\n",
       "106  URU      Uruguay  61.0  36.0  100.0  38.0  26.196474   53.348214\n",
       "107  VEN    Venezuela  81.0  12.0   76.0  73.0  15.617128  100.000000\n",
       "108  VIE      Vietnam  70.0  20.0   30.0  40.0  57.178841   35.491071\n",
       "109  ZAM       Zambia   NaN   NaN    NaN   NaN  30.226700   42.187500\n",
       "110  ZIM     Zimbabwe   NaN   NaN    NaN   NaN  15.365239   27.678571\n",
       "\n",
       "[111 rows x 8 columns]"
      ]
     },
     "execution_count": 28,
     "metadata": {},
     "output_type": "execute_result"
    }
   ],
   "source": [
    "cultural_dimensinality[[\"ctr\", \"country\", \"pdi\", \"idv\", \"uai\", \"mas\", \"lto\", \"ind\"]]"
   ]
  },
  {
   "cell_type": "code",
   "execution_count": 4,
   "metadata": {
    "ExecuteTime": {
     "end_time": "2020-03-26T15:45:19.042935Z",
     "start_time": "2020-03-26T15:45:18.941977Z"
    },
    "hidden": true
   },
   "outputs": [
    {
     "data": {
      "text/html": [
       "<div>\n",
       "<style scoped>\n",
       "    .dataframe tbody tr th:only-of-type {\n",
       "        vertical-align: middle;\n",
       "    }\n",
       "\n",
       "    .dataframe tbody tr th {\n",
       "        vertical-align: top;\n",
       "    }\n",
       "\n",
       "    .dataframe thead th {\n",
       "        text-align: right;\n",
       "    }\n",
       "</style>\n",
       "<table border=\"1\" class=\"dataframe\">\n",
       "  <thead>\n",
       "    <tr style=\"text-align: right;\">\n",
       "      <th></th>\n",
       "      <th>ctr</th>\n",
       "      <th>country</th>\n",
       "      <th>pdi</th>\n",
       "      <th>idv</th>\n",
       "      <th>uai</th>\n",
       "      <th>mas</th>\n",
       "      <th>lto</th>\n",
       "      <th>ind</th>\n",
       "    </tr>\n",
       "  </thead>\n",
       "  <tbody>\n",
       "    <tr>\n",
       "      <th>106</th>\n",
       "      <td>URU</td>\n",
       "      <td>Uruguay</td>\n",
       "      <td>61.0</td>\n",
       "      <td>36.0</td>\n",
       "      <td>100.0</td>\n",
       "      <td>38.0</td>\n",
       "      <td>26.196474</td>\n",
       "      <td>53.348214</td>\n",
       "    </tr>\n",
       "    <tr>\n",
       "      <th>107</th>\n",
       "      <td>VEN</td>\n",
       "      <td>Venezuela</td>\n",
       "      <td>81.0</td>\n",
       "      <td>12.0</td>\n",
       "      <td>76.0</td>\n",
       "      <td>73.0</td>\n",
       "      <td>15.617128</td>\n",
       "      <td>100.000000</td>\n",
       "    </tr>\n",
       "    <tr>\n",
       "      <th>108</th>\n",
       "      <td>VIE</td>\n",
       "      <td>Vietnam</td>\n",
       "      <td>70.0</td>\n",
       "      <td>20.0</td>\n",
       "      <td>30.0</td>\n",
       "      <td>40.0</td>\n",
       "      <td>57.178841</td>\n",
       "      <td>35.491071</td>\n",
       "    </tr>\n",
       "    <tr>\n",
       "      <th>109</th>\n",
       "      <td>ZAM</td>\n",
       "      <td>Zambia</td>\n",
       "      <td>NaN</td>\n",
       "      <td>NaN</td>\n",
       "      <td>NaN</td>\n",
       "      <td>NaN</td>\n",
       "      <td>30.226700</td>\n",
       "      <td>42.187500</td>\n",
       "    </tr>\n",
       "    <tr>\n",
       "      <th>110</th>\n",
       "      <td>ZIM</td>\n",
       "      <td>Zimbabwe</td>\n",
       "      <td>NaN</td>\n",
       "      <td>NaN</td>\n",
       "      <td>NaN</td>\n",
       "      <td>NaN</td>\n",
       "      <td>15.365239</td>\n",
       "      <td>27.678571</td>\n",
       "    </tr>\n",
       "  </tbody>\n",
       "</table>\n",
       "</div>"
      ],
      "text/plain": [
       "     ctr    country   pdi   idv    uai   mas        lto         ind\n",
       "106  URU    Uruguay  61.0  36.0  100.0  38.0  26.196474   53.348214\n",
       "107  VEN  Venezuela  81.0  12.0   76.0  73.0  15.617128  100.000000\n",
       "108  VIE    Vietnam  70.0  20.0   30.0  40.0  57.178841   35.491071\n",
       "109  ZAM     Zambia   NaN   NaN    NaN   NaN  30.226700   42.187500\n",
       "110  ZIM   Zimbabwe   NaN   NaN    NaN   NaN  15.365239   27.678571"
      ]
     },
     "execution_count": 4,
     "metadata": {},
     "output_type": "execute_result"
    }
   ],
   "source": [
    "#As they're ordered I'll print tail too\n",
    "cultural_dimensinality.tail()"
   ]
  },
  {
   "cell_type": "markdown",
   "metadata": {
    "heading_collapsed": true
   },
   "source": [
    "#### Check shape"
   ]
  },
  {
   "cell_type": "code",
   "execution_count": 5,
   "metadata": {
    "ExecuteTime": {
     "end_time": "2020-03-26T15:45:19.128093Z",
     "start_time": "2020-03-26T15:45:19.044897Z"
    },
    "hidden": true
   },
   "outputs": [
    {
     "data": {
      "text/plain": [
       "(111, 8)"
      ]
     },
     "execution_count": 5,
     "metadata": {},
     "output_type": "execute_result"
    }
   ],
   "source": [
    "cultural_dimensinality.shape"
   ]
  },
  {
   "cell_type": "markdown",
   "metadata": {},
   "source": [
    "#### Check dtypes and columns"
   ]
  },
  {
   "cell_type": "code",
   "execution_count": 6,
   "metadata": {
    "ExecuteTime": {
     "end_time": "2020-03-26T15:45:19.225303Z",
     "start_time": "2020-03-26T15:45:19.130088Z"
    },
    "cell_style": "center"
   },
   "outputs": [
    {
     "name": "stdout",
     "output_type": "stream",
     "text": [
      "<class 'pandas.core.frame.DataFrame'>\n",
      "RangeIndex: 111 entries, 0 to 110\n",
      "Data columns (total 8 columns):\n",
      " #   Column   Non-Null Count  Dtype  \n",
      "---  ------   --------------  -----  \n",
      " 0   ctr      111 non-null    object \n",
      " 1   country  111 non-null    object \n",
      " 2   pdi      78 non-null     float64\n",
      " 3   idv      78 non-null     float64\n",
      " 4   uai      78 non-null     float64\n",
      " 5   mas      78 non-null     float64\n",
      " 6   lto      96 non-null     float64\n",
      " 7   ind      97 non-null     float64\n",
      "dtypes: float64(6), object(2)\n",
      "memory usage: 7.1+ KB\n"
     ]
    }
   ],
   "source": [
    "cultural_dimensinality.info()"
   ]
  },
  {
   "cell_type": "markdown",
   "metadata": {
    "heading_collapsed": true
   },
   "source": [
    "#### Check nulls"
   ]
  },
  {
   "cell_type": "code",
   "execution_count": 7,
   "metadata": {
    "ExecuteTime": {
     "end_time": "2020-03-26T15:45:19.319868Z",
     "start_time": "2020-03-26T15:45:19.227298Z"
    },
    "hidden": true
   },
   "outputs": [
    {
     "name": "stdout",
     "output_type": "stream",
     "text": [
      "Are there any missing values? : True\n",
      "ctr         0\n",
      "country     0\n",
      "pdi        33\n",
      "idv        33\n",
      "uai        33\n",
      "mas        33\n",
      "lto        15\n",
      "ind        14\n",
      "dtype: int64\n"
     ]
    }
   ],
   "source": [
    "print(\"Are there any missing values? :\",cultural_dimensinality.isnull().any().any())\n",
    "print(cultural_dimensinality.isnull().sum())"
   ]
  },
  {
   "cell_type": "markdown",
   "metadata": {
    "heading_collapsed": true
   },
   "source": [
    "#### Check duplicates"
   ]
  },
  {
   "cell_type": "code",
   "execution_count": 8,
   "metadata": {
    "ExecuteTime": {
     "end_time": "2020-03-26T15:45:19.460850Z",
     "start_time": "2020-03-26T15:45:19.322823Z"
    },
    "hidden": true
   },
   "outputs": [
    {
     "name": "stdout",
     "output_type": "stream",
     "text": [
      "Are there duplicated values? : False\n",
      "0\n"
     ]
    }
   ],
   "source": [
    "print(\"Are there duplicated values? :\",cultural_dimensinality.duplicated().any().any())\n",
    "print(cultural_dimensinality.duplicated().sum())"
   ]
  },
  {
   "cell_type": "markdown",
   "metadata": {},
   "source": [
    "#### See some descriptive statistics"
   ]
  },
  {
   "cell_type": "code",
   "execution_count": 9,
   "metadata": {
    "ExecuteTime": {
     "end_time": "2020-03-26T15:45:19.624989Z",
     "start_time": "2020-03-26T15:45:19.462810Z"
    }
   },
   "outputs": [
    {
     "data": {
      "text/html": [
       "<div>\n",
       "<style scoped>\n",
       "    .dataframe tbody tr th:only-of-type {\n",
       "        vertical-align: middle;\n",
       "    }\n",
       "\n",
       "    .dataframe tbody tr th {\n",
       "        vertical-align: top;\n",
       "    }\n",
       "\n",
       "    .dataframe thead th {\n",
       "        text-align: right;\n",
       "    }\n",
       "</style>\n",
       "<table border=\"1\" class=\"dataframe\">\n",
       "  <thead>\n",
       "    <tr style=\"text-align: right;\">\n",
       "      <th></th>\n",
       "      <th>pdi</th>\n",
       "      <th>idv</th>\n",
       "      <th>uai</th>\n",
       "      <th>mas</th>\n",
       "      <th>lto</th>\n",
       "      <th>ind</th>\n",
       "    </tr>\n",
       "  </thead>\n",
       "  <tbody>\n",
       "    <tr>\n",
       "      <th>count</th>\n",
       "      <td>78.000000</td>\n",
       "      <td>78.000000</td>\n",
       "      <td>78.000000</td>\n",
       "      <td>78.000000</td>\n",
       "      <td>96.000000</td>\n",
       "      <td>97.000000</td>\n",
       "    </tr>\n",
       "    <tr>\n",
       "      <th>mean</th>\n",
       "      <td>59.333333</td>\n",
       "      <td>45.166667</td>\n",
       "      <td>67.641026</td>\n",
       "      <td>49.269231</td>\n",
       "      <td>45.479272</td>\n",
       "      <td>45.425534</td>\n",
       "    </tr>\n",
       "    <tr>\n",
       "      <th>std</th>\n",
       "      <td>21.223405</td>\n",
       "      <td>23.971529</td>\n",
       "      <td>22.992926</td>\n",
       "      <td>19.007636</td>\n",
       "      <td>24.232016</td>\n",
       "      <td>22.174204</td>\n",
       "    </tr>\n",
       "    <tr>\n",
       "      <th>min</th>\n",
       "      <td>11.000000</td>\n",
       "      <td>6.000000</td>\n",
       "      <td>8.000000</td>\n",
       "      <td>5.000000</td>\n",
       "      <td>0.000000</td>\n",
       "      <td>0.000000</td>\n",
       "    </tr>\n",
       "    <tr>\n",
       "      <th>25%</th>\n",
       "      <td>42.500000</td>\n",
       "      <td>23.500000</td>\n",
       "      <td>51.250000</td>\n",
       "      <td>40.000000</td>\n",
       "      <td>25.566751</td>\n",
       "      <td>29.241071</td>\n",
       "    </tr>\n",
       "    <tr>\n",
       "      <th>50%</th>\n",
       "      <td>62.000000</td>\n",
       "      <td>43.500000</td>\n",
       "      <td>69.500000</td>\n",
       "      <td>48.500000</td>\n",
       "      <td>44.584383</td>\n",
       "      <td>43.080357</td>\n",
       "    </tr>\n",
       "    <tr>\n",
       "      <th>75%</th>\n",
       "      <td>72.500000</td>\n",
       "      <td>67.750000</td>\n",
       "      <td>86.000000</td>\n",
       "      <td>61.750000</td>\n",
       "      <td>63.602015</td>\n",
       "      <td>63.000000</td>\n",
       "    </tr>\n",
       "    <tr>\n",
       "      <th>max</th>\n",
       "      <td>104.000000</td>\n",
       "      <td>91.000000</td>\n",
       "      <td>112.000000</td>\n",
       "      <td>110.000000</td>\n",
       "      <td>100.000000</td>\n",
       "      <td>100.000000</td>\n",
       "    </tr>\n",
       "  </tbody>\n",
       "</table>\n",
       "</div>"
      ],
      "text/plain": [
       "              pdi        idv         uai         mas         lto         ind\n",
       "count   78.000000  78.000000   78.000000   78.000000   96.000000   97.000000\n",
       "mean    59.333333  45.166667   67.641026   49.269231   45.479272   45.425534\n",
       "std     21.223405  23.971529   22.992926   19.007636   24.232016   22.174204\n",
       "min     11.000000   6.000000    8.000000    5.000000    0.000000    0.000000\n",
       "25%     42.500000  23.500000   51.250000   40.000000   25.566751   29.241071\n",
       "50%     62.000000  43.500000   69.500000   48.500000   44.584383   43.080357\n",
       "75%     72.500000  67.750000   86.000000   61.750000   63.602015   63.000000\n",
       "max    104.000000  91.000000  112.000000  110.000000  100.000000  100.000000"
      ]
     },
     "execution_count": 9,
     "metadata": {},
     "output_type": "execute_result"
    }
   ],
   "source": [
    "cultural_dimensinality.describe()"
   ]
  },
  {
   "cell_type": "markdown",
   "metadata": {},
   "source": [
    "### World Happiness Report 2015"
   ]
  },
  {
   "cell_type": "markdown",
   "metadata": {
    "heading_collapsed": true
   },
   "source": [
    "#### Context"
   ]
  },
  {
   "cell_type": "markdown",
   "metadata": {
    "hidden": true
   },
   "source": [
    "**The World Happiness Report 2015** is a landmark survey of the state of global happiness which ranks 158 countries by their happiness levels based on six factors.\n",
    "\n",
    "\n",
    "`Country:` Name of the country.\n",
    "\n",
    "`Region:` Region the country belongs to.\n",
    "\n",
    "`Happiness Rank:` Rank of the country based on the Happiness Score.\n",
    "\n",
    "`Happiness Score:` A metric measured in 2015 by asking the sampled people the question: \"How would you rate your happiness on a scale of 0 to 10 where 10 is the happiest.\"\n",
    "\n",
    "`Economy:` real GDP per capita\n",
    "\n",
    "`Family:` social support\n",
    "\n",
    "`Health:` healthy life expectancy\n",
    "\n",
    "`Freedom:` freedom to make life choices\n",
    "\n",
    "`Trust:` perceptions of corruption\n",
    "\n",
    "`Generosity:` perceptions of generosity\n",
    "\n",
    "`Dystopia:` each country is compared against a hypothetical nation that represents the lowest national averages for each key variable and is, along with residual error, used as a regression benchmark"
   ]
  },
  {
   "cell_type": "markdown",
   "metadata": {
    "heading_collapsed": true
   },
   "source": [
    "#### Read dataset and check head"
   ]
  },
  {
   "cell_type": "code",
   "execution_count": 10,
   "metadata": {
    "ExecuteTime": {
     "end_time": "2020-03-26T15:45:19.776898Z",
     "start_time": "2020-03-26T15:45:19.626957Z"
    },
    "hidden": true,
    "scrolled": true
   },
   "outputs": [
    {
     "data": {
      "text/html": [
       "<div>\n",
       "<style scoped>\n",
       "    .dataframe tbody tr th:only-of-type {\n",
       "        vertical-align: middle;\n",
       "    }\n",
       "\n",
       "    .dataframe tbody tr th {\n",
       "        vertical-align: top;\n",
       "    }\n",
       "\n",
       "    .dataframe thead th {\n",
       "        text-align: right;\n",
       "    }\n",
       "</style>\n",
       "<table border=\"1\" class=\"dataframe\">\n",
       "  <thead>\n",
       "    <tr style=\"text-align: right;\">\n",
       "      <th></th>\n",
       "      <th>Country</th>\n",
       "      <th>Region</th>\n",
       "      <th>Happiness Rank</th>\n",
       "      <th>Happiness Score</th>\n",
       "      <th>Standard Error</th>\n",
       "      <th>Economy (GDP per Capita)</th>\n",
       "      <th>Family</th>\n",
       "      <th>Health (Life Expectancy)</th>\n",
       "      <th>Freedom</th>\n",
       "      <th>Trust (Government Corruption)</th>\n",
       "      <th>Generosity</th>\n",
       "      <th>Dystopia Residual</th>\n",
       "    </tr>\n",
       "  </thead>\n",
       "  <tbody>\n",
       "    <tr>\n",
       "      <th>0</th>\n",
       "      <td>Switzerland</td>\n",
       "      <td>Western Europe</td>\n",
       "      <td>1</td>\n",
       "      <td>7.587</td>\n",
       "      <td>0.03411</td>\n",
       "      <td>1.39651</td>\n",
       "      <td>1.34951</td>\n",
       "      <td>0.94143</td>\n",
       "      <td>0.66557</td>\n",
       "      <td>0.41978</td>\n",
       "      <td>0.29678</td>\n",
       "      <td>2.51738</td>\n",
       "    </tr>\n",
       "    <tr>\n",
       "      <th>1</th>\n",
       "      <td>Iceland</td>\n",
       "      <td>Western Europe</td>\n",
       "      <td>2</td>\n",
       "      <td>7.561</td>\n",
       "      <td>0.04884</td>\n",
       "      <td>1.30232</td>\n",
       "      <td>1.40223</td>\n",
       "      <td>0.94784</td>\n",
       "      <td>0.62877</td>\n",
       "      <td>0.14145</td>\n",
       "      <td>0.43630</td>\n",
       "      <td>2.70201</td>\n",
       "    </tr>\n",
       "    <tr>\n",
       "      <th>2</th>\n",
       "      <td>Denmark</td>\n",
       "      <td>Western Europe</td>\n",
       "      <td>3</td>\n",
       "      <td>7.527</td>\n",
       "      <td>0.03328</td>\n",
       "      <td>1.32548</td>\n",
       "      <td>1.36058</td>\n",
       "      <td>0.87464</td>\n",
       "      <td>0.64938</td>\n",
       "      <td>0.48357</td>\n",
       "      <td>0.34139</td>\n",
       "      <td>2.49204</td>\n",
       "    </tr>\n",
       "    <tr>\n",
       "      <th>3</th>\n",
       "      <td>Norway</td>\n",
       "      <td>Western Europe</td>\n",
       "      <td>4</td>\n",
       "      <td>7.522</td>\n",
       "      <td>0.03880</td>\n",
       "      <td>1.45900</td>\n",
       "      <td>1.33095</td>\n",
       "      <td>0.88521</td>\n",
       "      <td>0.66973</td>\n",
       "      <td>0.36503</td>\n",
       "      <td>0.34699</td>\n",
       "      <td>2.46531</td>\n",
       "    </tr>\n",
       "    <tr>\n",
       "      <th>4</th>\n",
       "      <td>Canada</td>\n",
       "      <td>North America</td>\n",
       "      <td>5</td>\n",
       "      <td>7.427</td>\n",
       "      <td>0.03553</td>\n",
       "      <td>1.32629</td>\n",
       "      <td>1.32261</td>\n",
       "      <td>0.90563</td>\n",
       "      <td>0.63297</td>\n",
       "      <td>0.32957</td>\n",
       "      <td>0.45811</td>\n",
       "      <td>2.45176</td>\n",
       "    </tr>\n",
       "  </tbody>\n",
       "</table>\n",
       "</div>"
      ],
      "text/plain": [
       "       Country          Region  Happiness Rank  Happiness Score  \\\n",
       "0  Switzerland  Western Europe               1            7.587   \n",
       "1      Iceland  Western Europe               2            7.561   \n",
       "2      Denmark  Western Europe               3            7.527   \n",
       "3       Norway  Western Europe               4            7.522   \n",
       "4       Canada   North America               5            7.427   \n",
       "\n",
       "   Standard Error  Economy (GDP per Capita)   Family  \\\n",
       "0         0.03411                   1.39651  1.34951   \n",
       "1         0.04884                   1.30232  1.40223   \n",
       "2         0.03328                   1.32548  1.36058   \n",
       "3         0.03880                   1.45900  1.33095   \n",
       "4         0.03553                   1.32629  1.32261   \n",
       "\n",
       "   Health (Life Expectancy)  Freedom  Trust (Government Corruption)  \\\n",
       "0                   0.94143  0.66557                        0.41978   \n",
       "1                   0.94784  0.62877                        0.14145   \n",
       "2                   0.87464  0.64938                        0.48357   \n",
       "3                   0.88521  0.66973                        0.36503   \n",
       "4                   0.90563  0.63297                        0.32957   \n",
       "\n",
       "   Generosity  Dystopia Residual  \n",
       "0     0.29678            2.51738  \n",
       "1     0.43630            2.70201  \n",
       "2     0.34139            2.49204  \n",
       "3     0.34699            2.46531  \n",
       "4     0.45811            2.45176  "
      ]
     },
     "execution_count": 10,
     "metadata": {},
     "output_type": "execute_result"
    }
   ],
   "source": [
    "whr2015 = pd.read_csv(\"data/happiness/2015.csv\")\n",
    "whr2015.head()"
   ]
  },
  {
   "cell_type": "markdown",
   "metadata": {
    "heading_collapsed": true
   },
   "source": [
    "#### Check tail"
   ]
  },
  {
   "cell_type": "code",
   "execution_count": 11,
   "metadata": {
    "ExecuteTime": {
     "end_time": "2020-03-26T15:45:19.900972Z",
     "start_time": "2020-03-26T15:45:19.778894Z"
    },
    "hidden": true
   },
   "outputs": [
    {
     "data": {
      "text/html": [
       "<div>\n",
       "<style scoped>\n",
       "    .dataframe tbody tr th:only-of-type {\n",
       "        vertical-align: middle;\n",
       "    }\n",
       "\n",
       "    .dataframe tbody tr th {\n",
       "        vertical-align: top;\n",
       "    }\n",
       "\n",
       "    .dataframe thead th {\n",
       "        text-align: right;\n",
       "    }\n",
       "</style>\n",
       "<table border=\"1\" class=\"dataframe\">\n",
       "  <thead>\n",
       "    <tr style=\"text-align: right;\">\n",
       "      <th></th>\n",
       "      <th>Country</th>\n",
       "      <th>Region</th>\n",
       "      <th>Happiness Rank</th>\n",
       "      <th>Happiness Score</th>\n",
       "      <th>Standard Error</th>\n",
       "      <th>Economy (GDP per Capita)</th>\n",
       "      <th>Family</th>\n",
       "      <th>Health (Life Expectancy)</th>\n",
       "      <th>Freedom</th>\n",
       "      <th>Trust (Government Corruption)</th>\n",
       "      <th>Generosity</th>\n",
       "      <th>Dystopia Residual</th>\n",
       "    </tr>\n",
       "  </thead>\n",
       "  <tbody>\n",
       "    <tr>\n",
       "      <th>153</th>\n",
       "      <td>Rwanda</td>\n",
       "      <td>Sub-Saharan Africa</td>\n",
       "      <td>154</td>\n",
       "      <td>3.465</td>\n",
       "      <td>0.03464</td>\n",
       "      <td>0.22208</td>\n",
       "      <td>0.77370</td>\n",
       "      <td>0.42864</td>\n",
       "      <td>0.59201</td>\n",
       "      <td>0.55191</td>\n",
       "      <td>0.22628</td>\n",
       "      <td>0.67042</td>\n",
       "    </tr>\n",
       "    <tr>\n",
       "      <th>154</th>\n",
       "      <td>Benin</td>\n",
       "      <td>Sub-Saharan Africa</td>\n",
       "      <td>155</td>\n",
       "      <td>3.340</td>\n",
       "      <td>0.03656</td>\n",
       "      <td>0.28665</td>\n",
       "      <td>0.35386</td>\n",
       "      <td>0.31910</td>\n",
       "      <td>0.48450</td>\n",
       "      <td>0.08010</td>\n",
       "      <td>0.18260</td>\n",
       "      <td>1.63328</td>\n",
       "    </tr>\n",
       "    <tr>\n",
       "      <th>155</th>\n",
       "      <td>Syria</td>\n",
       "      <td>Middle East and Northern Africa</td>\n",
       "      <td>156</td>\n",
       "      <td>3.006</td>\n",
       "      <td>0.05015</td>\n",
       "      <td>0.66320</td>\n",
       "      <td>0.47489</td>\n",
       "      <td>0.72193</td>\n",
       "      <td>0.15684</td>\n",
       "      <td>0.18906</td>\n",
       "      <td>0.47179</td>\n",
       "      <td>0.32858</td>\n",
       "    </tr>\n",
       "    <tr>\n",
       "      <th>156</th>\n",
       "      <td>Burundi</td>\n",
       "      <td>Sub-Saharan Africa</td>\n",
       "      <td>157</td>\n",
       "      <td>2.905</td>\n",
       "      <td>0.08658</td>\n",
       "      <td>0.01530</td>\n",
       "      <td>0.41587</td>\n",
       "      <td>0.22396</td>\n",
       "      <td>0.11850</td>\n",
       "      <td>0.10062</td>\n",
       "      <td>0.19727</td>\n",
       "      <td>1.83302</td>\n",
       "    </tr>\n",
       "    <tr>\n",
       "      <th>157</th>\n",
       "      <td>Togo</td>\n",
       "      <td>Sub-Saharan Africa</td>\n",
       "      <td>158</td>\n",
       "      <td>2.839</td>\n",
       "      <td>0.06727</td>\n",
       "      <td>0.20868</td>\n",
       "      <td>0.13995</td>\n",
       "      <td>0.28443</td>\n",
       "      <td>0.36453</td>\n",
       "      <td>0.10731</td>\n",
       "      <td>0.16681</td>\n",
       "      <td>1.56726</td>\n",
       "    </tr>\n",
       "  </tbody>\n",
       "</table>\n",
       "</div>"
      ],
      "text/plain": [
       "     Country                           Region  Happiness Rank  \\\n",
       "153   Rwanda               Sub-Saharan Africa             154   \n",
       "154    Benin               Sub-Saharan Africa             155   \n",
       "155    Syria  Middle East and Northern Africa             156   \n",
       "156  Burundi               Sub-Saharan Africa             157   \n",
       "157     Togo               Sub-Saharan Africa             158   \n",
       "\n",
       "     Happiness Score  Standard Error  Economy (GDP per Capita)   Family  \\\n",
       "153            3.465         0.03464                   0.22208  0.77370   \n",
       "154            3.340         0.03656                   0.28665  0.35386   \n",
       "155            3.006         0.05015                   0.66320  0.47489   \n",
       "156            2.905         0.08658                   0.01530  0.41587   \n",
       "157            2.839         0.06727                   0.20868  0.13995   \n",
       "\n",
       "     Health (Life Expectancy)  Freedom  Trust (Government Corruption)  \\\n",
       "153                   0.42864  0.59201                        0.55191   \n",
       "154                   0.31910  0.48450                        0.08010   \n",
       "155                   0.72193  0.15684                        0.18906   \n",
       "156                   0.22396  0.11850                        0.10062   \n",
       "157                   0.28443  0.36453                        0.10731   \n",
       "\n",
       "     Generosity  Dystopia Residual  \n",
       "153     0.22628            0.67042  \n",
       "154     0.18260            1.63328  \n",
       "155     0.47179            0.32858  \n",
       "156     0.19727            1.83302  \n",
       "157     0.16681            1.56726  "
      ]
     },
     "execution_count": 11,
     "metadata": {},
     "output_type": "execute_result"
    }
   ],
   "source": [
    "#As they're ordered I'll print tail too\n",
    "whr2015.tail()"
   ]
  },
  {
   "cell_type": "markdown",
   "metadata": {
    "heading_collapsed": true
   },
   "source": [
    "#### Check shape"
   ]
  },
  {
   "cell_type": "code",
   "execution_count": 12,
   "metadata": {
    "ExecuteTime": {
     "end_time": "2020-03-26T15:45:20.091864Z",
     "start_time": "2020-03-26T15:45:19.902966Z"
    },
    "hidden": true
   },
   "outputs": [
    {
     "data": {
      "text/plain": [
       "(158, 12)"
      ]
     },
     "execution_count": 12,
     "metadata": {},
     "output_type": "execute_result"
    }
   ],
   "source": [
    "whr2015.shape"
   ]
  },
  {
   "cell_type": "markdown",
   "metadata": {},
   "source": [
    "#### Check dtypes and columns"
   ]
  },
  {
   "cell_type": "code",
   "execution_count": 13,
   "metadata": {
    "ExecuteTime": {
     "end_time": "2020-03-26T15:45:20.309881Z",
     "start_time": "2020-03-26T15:45:20.093832Z"
    }
   },
   "outputs": [
    {
     "name": "stdout",
     "output_type": "stream",
     "text": [
      "<class 'pandas.core.frame.DataFrame'>\n",
      "RangeIndex: 158 entries, 0 to 157\n",
      "Data columns (total 12 columns):\n",
      " #   Column                         Non-Null Count  Dtype  \n",
      "---  ------                         --------------  -----  \n",
      " 0   Country                        158 non-null    object \n",
      " 1   Region                         158 non-null    object \n",
      " 2   Happiness Rank                 158 non-null    int64  \n",
      " 3   Happiness Score                158 non-null    float64\n",
      " 4   Standard Error                 158 non-null    float64\n",
      " 5   Economy (GDP per Capita)       158 non-null    float64\n",
      " 6   Family                         158 non-null    float64\n",
      " 7   Health (Life Expectancy)       158 non-null    float64\n",
      " 8   Freedom                        158 non-null    float64\n",
      " 9   Trust (Government Corruption)  158 non-null    float64\n",
      " 10  Generosity                     158 non-null    float64\n",
      " 11  Dystopia Residual              158 non-null    float64\n",
      "dtypes: float64(9), int64(1), object(2)\n",
      "memory usage: 14.9+ KB\n"
     ]
    }
   ],
   "source": [
    "whr2015.info()"
   ]
  },
  {
   "cell_type": "markdown",
   "metadata": {
    "heading_collapsed": true
   },
   "source": [
    "#### Check nulls"
   ]
  },
  {
   "cell_type": "code",
   "execution_count": 14,
   "metadata": {
    "ExecuteTime": {
     "end_time": "2020-03-26T15:45:20.497968Z",
     "start_time": "2020-03-26T15:45:20.310844Z"
    },
    "hidden": true
   },
   "outputs": [
    {
     "name": "stdout",
     "output_type": "stream",
     "text": [
      "Are there any missing values? : False\n",
      "Country                          0\n",
      "Region                           0\n",
      "Happiness Rank                   0\n",
      "Happiness Score                  0\n",
      "Standard Error                   0\n",
      "Economy (GDP per Capita)         0\n",
      "Family                           0\n",
      "Health (Life Expectancy)         0\n",
      "Freedom                          0\n",
      "Trust (Government Corruption)    0\n",
      "Generosity                       0\n",
      "Dystopia Residual                0\n",
      "dtype: int64\n"
     ]
    }
   ],
   "source": [
    "print(\"Are there any missing values? :\",whr2015.isnull().any().any())\n",
    "print(whr2015.isnull().sum())"
   ]
  },
  {
   "cell_type": "markdown",
   "metadata": {
    "heading_collapsed": true
   },
   "source": [
    "#### Check duplicates"
   ]
  },
  {
   "cell_type": "code",
   "execution_count": 15,
   "metadata": {
    "ExecuteTime": {
     "end_time": "2020-03-26T15:45:20.594421Z",
     "start_time": "2020-03-26T15:45:20.499980Z"
    },
    "hidden": true
   },
   "outputs": [
    {
     "name": "stdout",
     "output_type": "stream",
     "text": [
      "Are there duplicated values? : False\n",
      "0\n"
     ]
    }
   ],
   "source": [
    "print(\"Are there duplicated values? :\",whr2015.duplicated().any().any())\n",
    "print(whr2015.duplicated().sum())"
   ]
  },
  {
   "cell_type": "markdown",
   "metadata": {
    "heading_collapsed": true
   },
   "source": [
    "#### See some descriptive statistics"
   ]
  },
  {
   "cell_type": "code",
   "execution_count": 16,
   "metadata": {
    "ExecuteTime": {
     "end_time": "2020-03-26T15:45:20.711739Z",
     "start_time": "2020-03-26T15:45:20.595384Z"
    },
    "hidden": true
   },
   "outputs": [
    {
     "data": {
      "text/html": [
       "<div>\n",
       "<style scoped>\n",
       "    .dataframe tbody tr th:only-of-type {\n",
       "        vertical-align: middle;\n",
       "    }\n",
       "\n",
       "    .dataframe tbody tr th {\n",
       "        vertical-align: top;\n",
       "    }\n",
       "\n",
       "    .dataframe thead th {\n",
       "        text-align: right;\n",
       "    }\n",
       "</style>\n",
       "<table border=\"1\" class=\"dataframe\">\n",
       "  <thead>\n",
       "    <tr style=\"text-align: right;\">\n",
       "      <th></th>\n",
       "      <th>Happiness Rank</th>\n",
       "      <th>Happiness Score</th>\n",
       "      <th>Standard Error</th>\n",
       "      <th>Economy (GDP per Capita)</th>\n",
       "      <th>Family</th>\n",
       "      <th>Health (Life Expectancy)</th>\n",
       "      <th>Freedom</th>\n",
       "      <th>Trust (Government Corruption)</th>\n",
       "      <th>Generosity</th>\n",
       "      <th>Dystopia Residual</th>\n",
       "    </tr>\n",
       "  </thead>\n",
       "  <tbody>\n",
       "    <tr>\n",
       "      <th>count</th>\n",
       "      <td>158.000000</td>\n",
       "      <td>158.000000</td>\n",
       "      <td>158.000000</td>\n",
       "      <td>158.000000</td>\n",
       "      <td>158.000000</td>\n",
       "      <td>158.000000</td>\n",
       "      <td>158.000000</td>\n",
       "      <td>158.000000</td>\n",
       "      <td>158.000000</td>\n",
       "      <td>158.000000</td>\n",
       "    </tr>\n",
       "    <tr>\n",
       "      <th>mean</th>\n",
       "      <td>79.493671</td>\n",
       "      <td>5.375734</td>\n",
       "      <td>0.047885</td>\n",
       "      <td>0.846137</td>\n",
       "      <td>0.991046</td>\n",
       "      <td>0.630259</td>\n",
       "      <td>0.428615</td>\n",
       "      <td>0.143422</td>\n",
       "      <td>0.237296</td>\n",
       "      <td>2.098977</td>\n",
       "    </tr>\n",
       "    <tr>\n",
       "      <th>std</th>\n",
       "      <td>45.754363</td>\n",
       "      <td>1.145010</td>\n",
       "      <td>0.017146</td>\n",
       "      <td>0.403121</td>\n",
       "      <td>0.272369</td>\n",
       "      <td>0.247078</td>\n",
       "      <td>0.150693</td>\n",
       "      <td>0.120034</td>\n",
       "      <td>0.126685</td>\n",
       "      <td>0.553550</td>\n",
       "    </tr>\n",
       "    <tr>\n",
       "      <th>min</th>\n",
       "      <td>1.000000</td>\n",
       "      <td>2.839000</td>\n",
       "      <td>0.018480</td>\n",
       "      <td>0.000000</td>\n",
       "      <td>0.000000</td>\n",
       "      <td>0.000000</td>\n",
       "      <td>0.000000</td>\n",
       "      <td>0.000000</td>\n",
       "      <td>0.000000</td>\n",
       "      <td>0.328580</td>\n",
       "    </tr>\n",
       "    <tr>\n",
       "      <th>25%</th>\n",
       "      <td>40.250000</td>\n",
       "      <td>4.526000</td>\n",
       "      <td>0.037268</td>\n",
       "      <td>0.545808</td>\n",
       "      <td>0.856823</td>\n",
       "      <td>0.439185</td>\n",
       "      <td>0.328330</td>\n",
       "      <td>0.061675</td>\n",
       "      <td>0.150553</td>\n",
       "      <td>1.759410</td>\n",
       "    </tr>\n",
       "    <tr>\n",
       "      <th>50%</th>\n",
       "      <td>79.500000</td>\n",
       "      <td>5.232500</td>\n",
       "      <td>0.043940</td>\n",
       "      <td>0.910245</td>\n",
       "      <td>1.029510</td>\n",
       "      <td>0.696705</td>\n",
       "      <td>0.435515</td>\n",
       "      <td>0.107220</td>\n",
       "      <td>0.216130</td>\n",
       "      <td>2.095415</td>\n",
       "    </tr>\n",
       "    <tr>\n",
       "      <th>75%</th>\n",
       "      <td>118.750000</td>\n",
       "      <td>6.243750</td>\n",
       "      <td>0.052300</td>\n",
       "      <td>1.158448</td>\n",
       "      <td>1.214405</td>\n",
       "      <td>0.811013</td>\n",
       "      <td>0.549092</td>\n",
       "      <td>0.180255</td>\n",
       "      <td>0.309883</td>\n",
       "      <td>2.462415</td>\n",
       "    </tr>\n",
       "    <tr>\n",
       "      <th>max</th>\n",
       "      <td>158.000000</td>\n",
       "      <td>7.587000</td>\n",
       "      <td>0.136930</td>\n",
       "      <td>1.690420</td>\n",
       "      <td>1.402230</td>\n",
       "      <td>1.025250</td>\n",
       "      <td>0.669730</td>\n",
       "      <td>0.551910</td>\n",
       "      <td>0.795880</td>\n",
       "      <td>3.602140</td>\n",
       "    </tr>\n",
       "  </tbody>\n",
       "</table>\n",
       "</div>"
      ],
      "text/plain": [
       "       Happiness Rank  Happiness Score  Standard Error  \\\n",
       "count      158.000000       158.000000      158.000000   \n",
       "mean        79.493671         5.375734        0.047885   \n",
       "std         45.754363         1.145010        0.017146   \n",
       "min          1.000000         2.839000        0.018480   \n",
       "25%         40.250000         4.526000        0.037268   \n",
       "50%         79.500000         5.232500        0.043940   \n",
       "75%        118.750000         6.243750        0.052300   \n",
       "max        158.000000         7.587000        0.136930   \n",
       "\n",
       "       Economy (GDP per Capita)      Family  Health (Life Expectancy)  \\\n",
       "count                158.000000  158.000000                158.000000   \n",
       "mean                   0.846137    0.991046                  0.630259   \n",
       "std                    0.403121    0.272369                  0.247078   \n",
       "min                    0.000000    0.000000                  0.000000   \n",
       "25%                    0.545808    0.856823                  0.439185   \n",
       "50%                    0.910245    1.029510                  0.696705   \n",
       "75%                    1.158448    1.214405                  0.811013   \n",
       "max                    1.690420    1.402230                  1.025250   \n",
       "\n",
       "          Freedom  Trust (Government Corruption)  Generosity  \\\n",
       "count  158.000000                     158.000000  158.000000   \n",
       "mean     0.428615                       0.143422    0.237296   \n",
       "std      0.150693                       0.120034    0.126685   \n",
       "min      0.000000                       0.000000    0.000000   \n",
       "25%      0.328330                       0.061675    0.150553   \n",
       "50%      0.435515                       0.107220    0.216130   \n",
       "75%      0.549092                       0.180255    0.309883   \n",
       "max      0.669730                       0.551910    0.795880   \n",
       "\n",
       "       Dystopia Residual  \n",
       "count         158.000000  \n",
       "mean            2.098977  \n",
       "std             0.553550  \n",
       "min             0.328580  \n",
       "25%             1.759410  \n",
       "50%             2.095415  \n",
       "75%             2.462415  \n",
       "max             3.602140  "
      ]
     },
     "execution_count": 16,
     "metadata": {},
     "output_type": "execute_result"
    }
   ],
   "source": [
    "whr2015.describe()"
   ]
  },
  {
   "cell_type": "markdown",
   "metadata": {},
   "source": [
    "## 2. Hypothesize relationship between variables in each dataset"
   ]
  },
  {
   "cell_type": "markdown",
   "metadata": {},
   "source": [
    "### Hofstede's six-dimensions model (2015)"
   ]
  },
  {
   "cell_type": "code",
   "execution_count": 38,
   "metadata": {
    "ExecuteTime": {
     "end_time": "2020-03-26T16:15:52.484761Z",
     "start_time": "2020-03-26T16:15:52.456862Z"
    }
   },
   "outputs": [
    {
     "data": {
      "text/html": [
       "<style  type=\"text/css\" >\n",
       "    #T_1063ba40_6f7d_11ea_8e35_74e5f9201330row0_col0 {\n",
       "            background-color:  #b40426;\n",
       "            color:  #f1f1f1;\n",
       "        }    #T_1063ba40_6f7d_11ea_8e35_74e5f9201330row0_col1 {\n",
       "            background-color:  #3b4cc0;\n",
       "            color:  #f1f1f1;\n",
       "        }    #T_1063ba40_6f7d_11ea_8e35_74e5f9201330row0_col2 {\n",
       "            background-color:  #abc8fd;\n",
       "            color:  #000000;\n",
       "        }    #T_1063ba40_6f7d_11ea_8e35_74e5f9201330row0_col3 {\n",
       "            background-color:  #6f92f3;\n",
       "            color:  #000000;\n",
       "        }    #T_1063ba40_6f7d_11ea_8e35_74e5f9201330row0_col4 {\n",
       "            background-color:  #a3c2fe;\n",
       "            color:  #000000;\n",
       "        }    #T_1063ba40_6f7d_11ea_8e35_74e5f9201330row0_col5 {\n",
       "            background-color:  #5f7fe8;\n",
       "            color:  #000000;\n",
       "        }    #T_1063ba40_6f7d_11ea_8e35_74e5f9201330row1_col0 {\n",
       "            background-color:  #3b4cc0;\n",
       "            color:  #f1f1f1;\n",
       "        }    #T_1063ba40_6f7d_11ea_8e35_74e5f9201330row1_col1 {\n",
       "            background-color:  #b40426;\n",
       "            color:  #f1f1f1;\n",
       "        }    #T_1063ba40_6f7d_11ea_8e35_74e5f9201330row1_col2 {\n",
       "            background-color:  #3b4cc0;\n",
       "            color:  #f1f1f1;\n",
       "        }    #T_1063ba40_6f7d_11ea_8e35_74e5f9201330row1_col3 {\n",
       "            background-color:  #6485ec;\n",
       "            color:  #000000;\n",
       "        }    #T_1063ba40_6f7d_11ea_8e35_74e5f9201330row1_col4 {\n",
       "            background-color:  #bfd3f6;\n",
       "            color:  #000000;\n",
       "        }    #T_1063ba40_6f7d_11ea_8e35_74e5f9201330row1_col5 {\n",
       "            background-color:  #c3d5f4;\n",
       "            color:  #000000;\n",
       "        }    #T_1063ba40_6f7d_11ea_8e35_74e5f9201330row2_col0 {\n",
       "            background-color:  #e1dad6;\n",
       "            color:  #000000;\n",
       "        }    #T_1063ba40_6f7d_11ea_8e35_74e5f9201330row2_col1 {\n",
       "            background-color:  #94b6ff;\n",
       "            color:  #000000;\n",
       "        }    #T_1063ba40_6f7d_11ea_8e35_74e5f9201330row2_col2 {\n",
       "            background-color:  #b40426;\n",
       "            color:  #f1f1f1;\n",
       "        }    #T_1063ba40_6f7d_11ea_8e35_74e5f9201330row2_col3 {\n",
       "            background-color:  #3b4cc0;\n",
       "            color:  #f1f1f1;\n",
       "        }    #T_1063ba40_6f7d_11ea_8e35_74e5f9201330row2_col4 {\n",
       "            background-color:  #9fbfff;\n",
       "            color:  #000000;\n",
       "        }    #T_1063ba40_6f7d_11ea_8e35_74e5f9201330row2_col5 {\n",
       "            background-color:  #92b4fe;\n",
       "            color:  #000000;\n",
       "        }    #T_1063ba40_6f7d_11ea_8e35_74e5f9201330row3_col0 {\n",
       "            background-color:  #cedaeb;\n",
       "            color:  #000000;\n",
       "        }    #T_1063ba40_6f7d_11ea_8e35_74e5f9201330row3_col1 {\n",
       "            background-color:  #c9d7f0;\n",
       "            color:  #000000;\n",
       "        }    #T_1063ba40_6f7d_11ea_8e35_74e5f9201330row3_col2 {\n",
       "            background-color:  #5572df;\n",
       "            color:  #000000;\n",
       "        }    #T_1063ba40_6f7d_11ea_8e35_74e5f9201330row3_col3 {\n",
       "            background-color:  #b40426;\n",
       "            color:  #f1f1f1;\n",
       "        }    #T_1063ba40_6f7d_11ea_8e35_74e5f9201330row3_col4 {\n",
       "            background-color:  #aac7fd;\n",
       "            color:  #000000;\n",
       "        }    #T_1063ba40_6f7d_11ea_8e35_74e5f9201330row3_col5 {\n",
       "            background-color:  #b2ccfb;\n",
       "            color:  #000000;\n",
       "        }    #T_1063ba40_6f7d_11ea_8e35_74e5f9201330row4_col0 {\n",
       "            background-color:  #b7cff9;\n",
       "            color:  #000000;\n",
       "        }    #T_1063ba40_6f7d_11ea_8e35_74e5f9201330row4_col1 {\n",
       "            background-color:  #cfdaea;\n",
       "            color:  #000000;\n",
       "        }    #T_1063ba40_6f7d_11ea_8e35_74e5f9201330row4_col2 {\n",
       "            background-color:  #6384eb;\n",
       "            color:  #000000;\n",
       "        }    #T_1063ba40_6f7d_11ea_8e35_74e5f9201330row4_col3 {\n",
       "            background-color:  #5572df;\n",
       "            color:  #000000;\n",
       "        }    #T_1063ba40_6f7d_11ea_8e35_74e5f9201330row4_col4 {\n",
       "            background-color:  #b40426;\n",
       "            color:  #f1f1f1;\n",
       "        }    #T_1063ba40_6f7d_11ea_8e35_74e5f9201330row4_col5 {\n",
       "            background-color:  #3b4cc0;\n",
       "            color:  #f1f1f1;\n",
       "        }    #T_1063ba40_6f7d_11ea_8e35_74e5f9201330row5_col0 {\n",
       "            background-color:  #7a9df8;\n",
       "            color:  #000000;\n",
       "        }    #T_1063ba40_6f7d_11ea_8e35_74e5f9201330row5_col1 {\n",
       "            background-color:  #d2dbe8;\n",
       "            color:  #000000;\n",
       "        }    #T_1063ba40_6f7d_11ea_8e35_74e5f9201330row5_col2 {\n",
       "            background-color:  #536edd;\n",
       "            color:  #000000;\n",
       "        }    #T_1063ba40_6f7d_11ea_8e35_74e5f9201330row5_col3 {\n",
       "            background-color:  #5f7fe8;\n",
       "            color:  #000000;\n",
       "        }    #T_1063ba40_6f7d_11ea_8e35_74e5f9201330row5_col4 {\n",
       "            background-color:  #3b4cc0;\n",
       "            color:  #f1f1f1;\n",
       "        }    #T_1063ba40_6f7d_11ea_8e35_74e5f9201330row5_col5 {\n",
       "            background-color:  #b40426;\n",
       "            color:  #f1f1f1;\n",
       "        }</style><table id=\"T_1063ba40_6f7d_11ea_8e35_74e5f9201330\" ><thead>    <tr>        <th class=\"blank level0\" ></th>        <th class=\"col_heading level0 col0\" >pdi</th>        <th class=\"col_heading level0 col1\" >idv</th>        <th class=\"col_heading level0 col2\" >uai</th>        <th class=\"col_heading level0 col3\" >mas</th>        <th class=\"col_heading level0 col4\" >lto</th>        <th class=\"col_heading level0 col5\" >ind</th>    </tr></thead><tbody>\n",
       "                <tr>\n",
       "                        <th id=\"T_1063ba40_6f7d_11ea_8e35_74e5f9201330level0_row0\" class=\"row_heading level0 row0\" >pdi</th>\n",
       "                        <td id=\"T_1063ba40_6f7d_11ea_8e35_74e5f9201330row0_col0\" class=\"data row0 col0\" >1.000000</td>\n",
       "                        <td id=\"T_1063ba40_6f7d_11ea_8e35_74e5f9201330row0_col1\" class=\"data row0 col1\" >-0.598411</td>\n",
       "                        <td id=\"T_1063ba40_6f7d_11ea_8e35_74e5f9201330row0_col2\" class=\"data row0 col2\" >0.228644</td>\n",
       "                        <td id=\"T_1063ba40_6f7d_11ea_8e35_74e5f9201330row0_col3\" class=\"data row0 col3\" >0.114673</td>\n",
       "                        <td id=\"T_1063ba40_6f7d_11ea_8e35_74e5f9201330row0_col4\" class=\"data row0 col4\" >0.000032</td>\n",
       "                        <td id=\"T_1063ba40_6f7d_11ea_8e35_74e5f9201330row0_col5\" class=\"data row0 col5\" >-0.284220</td>\n",
       "            </tr>\n",
       "            <tr>\n",
       "                        <th id=\"T_1063ba40_6f7d_11ea_8e35_74e5f9201330level0_row1\" class=\"row_heading level0 row1\" >idv</th>\n",
       "                        <td id=\"T_1063ba40_6f7d_11ea_8e35_74e5f9201330row1_col0\" class=\"data row1 col0\" >-0.598411</td>\n",
       "                        <td id=\"T_1063ba40_6f7d_11ea_8e35_74e5f9201330row1_col1\" class=\"data row1 col1\" >1.000000</td>\n",
       "                        <td id=\"T_1063ba40_6f7d_11ea_8e35_74e5f9201330row1_col2\" class=\"data row1 col2\" >-0.165157</td>\n",
       "                        <td id=\"T_1063ba40_6f7d_11ea_8e35_74e5f9201330row1_col3\" class=\"data row1 col3\" >0.082986</td>\n",
       "                        <td id=\"T_1063ba40_6f7d_11ea_8e35_74e5f9201330row1_col4\" class=\"data row1 col4\" >0.123430</td>\n",
       "                        <td id=\"T_1063ba40_6f7d_11ea_8e35_74e5f9201330row1_col5\" class=\"data row1 col5\" >0.136903</td>\n",
       "            </tr>\n",
       "            <tr>\n",
       "                        <th id=\"T_1063ba40_6f7d_11ea_8e35_74e5f9201330level0_row2\" class=\"row_heading level0 row2\" >uai</th>\n",
       "                        <td id=\"T_1063ba40_6f7d_11ea_8e35_74e5f9201330row2_col0\" class=\"data row2 col0\" >0.228644</td>\n",
       "                        <td id=\"T_1063ba40_6f7d_11ea_8e35_74e5f9201330row2_col1\" class=\"data row2 col1\" >-0.165157</td>\n",
       "                        <td id=\"T_1063ba40_6f7d_11ea_8e35_74e5f9201330row2_col2\" class=\"data row2 col2\" >1.000000</td>\n",
       "                        <td id=\"T_1063ba40_6f7d_11ea_8e35_74e5f9201330row2_col3\" class=\"data row2 col3\" >-0.060872</td>\n",
       "                        <td id=\"T_1063ba40_6f7d_11ea_8e35_74e5f9201330row2_col4\" class=\"data row2 col4\" >-0.012148</td>\n",
       "                        <td id=\"T_1063ba40_6f7d_11ea_8e35_74e5f9201330row2_col5\" class=\"data row2 col5\" >-0.074080</td>\n",
       "            </tr>\n",
       "            <tr>\n",
       "                        <th id=\"T_1063ba40_6f7d_11ea_8e35_74e5f9201330level0_row3\" class=\"row_heading level0 row3\" >mas</th>\n",
       "                        <td id=\"T_1063ba40_6f7d_11ea_8e35_74e5f9201330row3_col0\" class=\"data row3 col0\" >0.114673</td>\n",
       "                        <td id=\"T_1063ba40_6f7d_11ea_8e35_74e5f9201330row3_col1\" class=\"data row3 col1\" >0.082986</td>\n",
       "                        <td id=\"T_1063ba40_6f7d_11ea_8e35_74e5f9201330row3_col2\" class=\"data row3 col2\" >-0.060872</td>\n",
       "                        <td id=\"T_1063ba40_6f7d_11ea_8e35_74e5f9201330row3_col3\" class=\"data row3 col3\" >1.000000</td>\n",
       "                        <td id=\"T_1063ba40_6f7d_11ea_8e35_74e5f9201330row3_col4\" class=\"data row3 col4\" >0.031451</td>\n",
       "                        <td id=\"T_1063ba40_6f7d_11ea_8e35_74e5f9201330row3_col5\" class=\"data row3 col5\" >0.067040</td>\n",
       "            </tr>\n",
       "            <tr>\n",
       "                        <th id=\"T_1063ba40_6f7d_11ea_8e35_74e5f9201330level0_row4\" class=\"row_heading level0 row4\" >lto</th>\n",
       "                        <td id=\"T_1063ba40_6f7d_11ea_8e35_74e5f9201330row4_col0\" class=\"data row4 col0\" >0.000032</td>\n",
       "                        <td id=\"T_1063ba40_6f7d_11ea_8e35_74e5f9201330row4_col1\" class=\"data row4 col1\" >0.123430</td>\n",
       "                        <td id=\"T_1063ba40_6f7d_11ea_8e35_74e5f9201330row4_col2\" class=\"data row4 col2\" >-0.012148</td>\n",
       "                        <td id=\"T_1063ba40_6f7d_11ea_8e35_74e5f9201330row4_col3\" class=\"data row4 col3\" >0.031451</td>\n",
       "                        <td id=\"T_1063ba40_6f7d_11ea_8e35_74e5f9201330row4_col4\" class=\"data row4 col4\" >1.000000</td>\n",
       "                        <td id=\"T_1063ba40_6f7d_11ea_8e35_74e5f9201330row4_col5\" class=\"data row4 col5\" >-0.455667</td>\n",
       "            </tr>\n",
       "            <tr>\n",
       "                        <th id=\"T_1063ba40_6f7d_11ea_8e35_74e5f9201330level0_row5\" class=\"row_heading level0 row5\" >ind</th>\n",
       "                        <td id=\"T_1063ba40_6f7d_11ea_8e35_74e5f9201330row5_col0\" class=\"data row5 col0\" >-0.284220</td>\n",
       "                        <td id=\"T_1063ba40_6f7d_11ea_8e35_74e5f9201330row5_col1\" class=\"data row5 col1\" >0.136903</td>\n",
       "                        <td id=\"T_1063ba40_6f7d_11ea_8e35_74e5f9201330row5_col2\" class=\"data row5 col2\" >-0.074080</td>\n",
       "                        <td id=\"T_1063ba40_6f7d_11ea_8e35_74e5f9201330row5_col3\" class=\"data row5 col3\" >0.067040</td>\n",
       "                        <td id=\"T_1063ba40_6f7d_11ea_8e35_74e5f9201330row5_col4\" class=\"data row5 col4\" >-0.455667</td>\n",
       "                        <td id=\"T_1063ba40_6f7d_11ea_8e35_74e5f9201330row5_col5\" class=\"data row5 col5\" >1.000000</td>\n",
       "            </tr>\n",
       "    </tbody></table>"
      ],
      "text/plain": [
       "<pandas.io.formats.style.Styler at 0x1ba2ad1d3c8>"
      ]
     },
     "execution_count": 38,
     "metadata": {},
     "output_type": "execute_result"
    }
   ],
   "source": [
    "cultural_dimensinality.corr().style.background_gradient(cmap=(\"coolwarm\"))"
   ]
  },
  {
   "cell_type": "markdown",
   "metadata": {},
   "source": [
    "Lanza hipótesis"
   ]
  },
  {
   "cell_type": "markdown",
   "metadata": {},
   "source": [
    "### World Happiness Report 2015"
   ]
  },
  {
   "cell_type": "code",
   "execution_count": 35,
   "metadata": {
    "ExecuteTime": {
     "end_time": "2020-03-26T16:05:17.731830Z",
     "start_time": "2020-03-26T16:05:17.678938Z"
    }
   },
   "outputs": [
    {
     "data": {
      "text/html": [
       "<style  type=\"text/css\" >\n",
       "    #T_960b59ca_6f7b_11ea_a98a_74e5f9201330row0_col0 {\n",
       "            background-color:  #b40426;\n",
       "            color:  #f1f1f1;\n",
       "        }    #T_960b59ca_6f7b_11ea_a98a_74e5f9201330row0_col1 {\n",
       "            background-color:  #3b4cc0;\n",
       "            color:  #f1f1f1;\n",
       "        }    #T_960b59ca_6f7b_11ea_a98a_74e5f9201330row0_col2 {\n",
       "            background-color:  #b2ccfb;\n",
       "            color:  #000000;\n",
       "        }    #T_960b59ca_6f7b_11ea_a98a_74e5f9201330row0_col3 {\n",
       "            background-color:  #3b4cc0;\n",
       "            color:  #f1f1f1;\n",
       "        }    #T_960b59ca_6f7b_11ea_a98a_74e5f9201330row0_col4 {\n",
       "            background-color:  #3b4cc0;\n",
       "            color:  #f1f1f1;\n",
       "        }    #T_960b59ca_6f7b_11ea_a98a_74e5f9201330row0_col5 {\n",
       "            background-color:  #3b4cc0;\n",
       "            color:  #f1f1f1;\n",
       "        }    #T_960b59ca_6f7b_11ea_a98a_74e5f9201330row0_col6 {\n",
       "            background-color:  #3b4cc0;\n",
       "            color:  #f1f1f1;\n",
       "        }    #T_960b59ca_6f7b_11ea_a98a_74e5f9201330row0_col7 {\n",
       "            background-color:  #3b4cc0;\n",
       "            color:  #f1f1f1;\n",
       "        }    #T_960b59ca_6f7b_11ea_a98a_74e5f9201330row0_col8 {\n",
       "            background-color:  #3b4cc0;\n",
       "            color:  #f1f1f1;\n",
       "        }    #T_960b59ca_6f7b_11ea_a98a_74e5f9201330row0_col9 {\n",
       "            background-color:  #3b4cc0;\n",
       "            color:  #f1f1f1;\n",
       "        }    #T_960b59ca_6f7b_11ea_a98a_74e5f9201330row1_col0 {\n",
       "            background-color:  #3b4cc0;\n",
       "            color:  #f1f1f1;\n",
       "        }    #T_960b59ca_6f7b_11ea_a98a_74e5f9201330row1_col1 {\n",
       "            background-color:  #b40426;\n",
       "            color:  #f1f1f1;\n",
       "        }    #T_960b59ca_6f7b_11ea_a98a_74e5f9201330row1_col2 {\n",
       "            background-color:  #5977e3;\n",
       "            color:  #000000;\n",
       "        }    #T_960b59ca_6f7b_11ea_a98a_74e5f9201330row1_col3 {\n",
       "            background-color:  #dd5f4b;\n",
       "            color:  #000000;\n",
       "        }    #T_960b59ca_6f7b_11ea_a98a_74e5f9201330row1_col4 {\n",
       "            background-color:  #e36c55;\n",
       "            color:  #000000;\n",
       "        }    #T_960b59ca_6f7b_11ea_a98a_74e5f9201330row1_col5 {\n",
       "            background-color:  #e57058;\n",
       "            color:  #000000;\n",
       "        }    #T_960b59ca_6f7b_11ea_a98a_74e5f9201330row1_col6 {\n",
       "            background-color:  #f6a385;\n",
       "            color:  #000000;\n",
       "        }    #T_960b59ca_6f7b_11ea_a98a_74e5f9201330row1_col7 {\n",
       "            background-color:  #ebd3c6;\n",
       "            color:  #000000;\n",
       "        }    #T_960b59ca_6f7b_11ea_a98a_74e5f9201330row1_col8 {\n",
       "            background-color:  #9dbdff;\n",
       "            color:  #000000;\n",
       "        }    #T_960b59ca_6f7b_11ea_a98a_74e5f9201330row1_col9 {\n",
       "            background-color:  #f7af91;\n",
       "            color:  #000000;\n",
       "        }    #T_960b59ca_6f7b_11ea_a98a_74e5f9201330row2_col0 {\n",
       "            background-color:  #eed0c0;\n",
       "            color:  #000000;\n",
       "        }    #T_960b59ca_6f7b_11ea_a98a_74e5f9201330row2_col1 {\n",
       "            background-color:  #c3d5f4;\n",
       "            color:  #000000;\n",
       "        }    #T_960b59ca_6f7b_11ea_a98a_74e5f9201330row2_col2 {\n",
       "            background-color:  #b40426;\n",
       "            color:  #f1f1f1;\n",
       "        }    #T_960b59ca_6f7b_11ea_a98a_74e5f9201330row2_col3 {\n",
       "            background-color:  #a5c3fe;\n",
       "            color:  #000000;\n",
       "        }    #T_960b59ca_6f7b_11ea_a98a_74e5f9201330row2_col4 {\n",
       "            background-color:  #b1cbfc;\n",
       "            color:  #000000;\n",
       "        }    #T_960b59ca_6f7b_11ea_a98a_74e5f9201330row2_col5 {\n",
       "            background-color:  #8badfd;\n",
       "            color:  #000000;\n",
       "        }    #T_960b59ca_6f7b_11ea_a98a_74e5f9201330row2_col6 {\n",
       "            background-color:  #96b7ff;\n",
       "            color:  #000000;\n",
       "        }    #T_960b59ca_6f7b_11ea_a98a_74e5f9201330row2_col7 {\n",
       "            background-color:  #6788ee;\n",
       "            color:  #000000;\n",
       "        }    #T_960b59ca_6f7b_11ea_a98a_74e5f9201330row2_col8 {\n",
       "            background-color:  #4c66d6;\n",
       "            color:  #000000;\n",
       "        }    #T_960b59ca_6f7b_11ea_a98a_74e5f9201330row2_col9 {\n",
       "            background-color:  #bfd3f6;\n",
       "            color:  #000000;\n",
       "        }    #T_960b59ca_6f7b_11ea_a98a_74e5f9201330row3_col0 {\n",
       "            background-color:  #5a78e4;\n",
       "            color:  #000000;\n",
       "        }    #T_960b59ca_6f7b_11ea_a98a_74e5f9201330row3_col1 {\n",
       "            background-color:  #d95847;\n",
       "            color:  #000000;\n",
       "        }    #T_960b59ca_6f7b_11ea_a98a_74e5f9201330row3_col2 {\n",
       "            background-color:  #506bda;\n",
       "            color:  #000000;\n",
       "        }    #T_960b59ca_6f7b_11ea_a98a_74e5f9201330row3_col3 {\n",
       "            background-color:  #b40426;\n",
       "            color:  #f1f1f1;\n",
       "        }    #T_960b59ca_6f7b_11ea_a98a_74e5f9201330row3_col4 {\n",
       "            background-color:  #ee8669;\n",
       "            color:  #000000;\n",
       "        }    #T_960b59ca_6f7b_11ea_a98a_74e5f9201330row3_col5 {\n",
       "            background-color:  #d85646;\n",
       "            color:  #000000;\n",
       "        }    #T_960b59ca_6f7b_11ea_a98a_74e5f9201330row3_col6 {\n",
       "            background-color:  #f1ccb8;\n",
       "            color:  #000000;\n",
       "        }    #T_960b59ca_6f7b_11ea_a98a_74e5f9201330row3_col7 {\n",
       "            background-color:  #dbdcde;\n",
       "            color:  #000000;\n",
       "        }    #T_960b59ca_6f7b_11ea_a98a_74e5f9201330row3_col8 {\n",
       "            background-color:  #6384eb;\n",
       "            color:  #000000;\n",
       "        }    #T_960b59ca_6f7b_11ea_a98a_74e5f9201330row3_col9 {\n",
       "            background-color:  #b6cefa;\n",
       "            color:  #000000;\n",
       "        }    #T_960b59ca_6f7b_11ea_a98a_74e5f9201330row4_col0 {\n",
       "            background-color:  #6384eb;\n",
       "            color:  #000000;\n",
       "        }    #T_960b59ca_6f7b_11ea_a98a_74e5f9201330row4_col1 {\n",
       "            background-color:  #df634e;\n",
       "            color:  #000000;\n",
       "        }    #T_960b59ca_6f7b_11ea_a98a_74e5f9201330row4_col2 {\n",
       "            background-color:  #688aef;\n",
       "            color:  #000000;\n",
       "        }    #T_960b59ca_6f7b_11ea_a98a_74e5f9201330row4_col3 {\n",
       "            background-color:  #ed8366;\n",
       "            color:  #000000;\n",
       "        }    #T_960b59ca_6f7b_11ea_a98a_74e5f9201330row4_col4 {\n",
       "            background-color:  #b40426;\n",
       "            color:  #f1f1f1;\n",
       "        }    #T_960b59ca_6f7b_11ea_a98a_74e5f9201330row4_col5 {\n",
       "            background-color:  #f6a283;\n",
       "            color:  #000000;\n",
       "        }    #T_960b59ca_6f7b_11ea_a98a_74e5f9201330row4_col6 {\n",
       "            background-color:  #f6bfa6;\n",
       "            color:  #000000;\n",
       "        }    #T_960b59ca_6f7b_11ea_a98a_74e5f9201330row4_col7 {\n",
       "            background-color:  #c6d6f1;\n",
       "            color:  #000000;\n",
       "        }    #T_960b59ca_6f7b_11ea_a98a_74e5f9201330row4_col8 {\n",
       "            background-color:  #80a3fa;\n",
       "            color:  #000000;\n",
       "        }    #T_960b59ca_6f7b_11ea_a98a_74e5f9201330row4_col9 {\n",
       "            background-color:  #ccd9ed;\n",
       "            color:  #000000;\n",
       "        }    #T_960b59ca_6f7b_11ea_a98a_74e5f9201330row5_col0 {\n",
       "            background-color:  #6282ea;\n",
       "            color:  #000000;\n",
       "        }    #T_960b59ca_6f7b_11ea_a98a_74e5f9201330row5_col1 {\n",
       "            background-color:  #e16751;\n",
       "            color:  #000000;\n",
       "        }    #T_960b59ca_6f7b_11ea_a98a_74e5f9201330row5_col2 {\n",
       "            background-color:  #3b4cc0;\n",
       "            color:  #f1f1f1;\n",
       "        }    #T_960b59ca_6f7b_11ea_a98a_74e5f9201330row5_col3 {\n",
       "            background-color:  #d75445;\n",
       "            color:  #000000;\n",
       "        }    #T_960b59ca_6f7b_11ea_a98a_74e5f9201330row5_col4 {\n",
       "            background-color:  #f6a283;\n",
       "            color:  #000000;\n",
       "        }    #T_960b59ca_6f7b_11ea_a98a_74e5f9201330row5_col5 {\n",
       "            background-color:  #b40426;\n",
       "            color:  #f1f1f1;\n",
       "        }    #T_960b59ca_6f7b_11ea_a98a_74e5f9201330row5_col6 {\n",
       "            background-color:  #f0cdbb;\n",
       "            color:  #000000;\n",
       "        }    #T_960b59ca_6f7b_11ea_a98a_74e5f9201330row5_col7 {\n",
       "            background-color:  #cfdaea;\n",
       "            color:  #000000;\n",
       "        }    #T_960b59ca_6f7b_11ea_a98a_74e5f9201330row5_col8 {\n",
       "            background-color:  #86a9fc;\n",
       "            color:  #000000;\n",
       "        }    #T_960b59ca_6f7b_11ea_a98a_74e5f9201330row5_col9 {\n",
       "            background-color:  #b1cbfc;\n",
       "            color:  #000000;\n",
       "        }    #T_960b59ca_6f7b_11ea_a98a_74e5f9201330row6_col0 {\n",
       "            background-color:  #81a4fb;\n",
       "            color:  #000000;\n",
       "        }    #T_960b59ca_6f7b_11ea_a98a_74e5f9201330row6_col1 {\n",
       "            background-color:  #f08b6e;\n",
       "            color:  #000000;\n",
       "        }    #T_960b59ca_6f7b_11ea_a98a_74e5f9201330row6_col2 {\n",
       "            background-color:  #6687ed;\n",
       "            color:  #000000;\n",
       "        }    #T_960b59ca_6f7b_11ea_a98a_74e5f9201330row6_col3 {\n",
       "            background-color:  #f6bea4;\n",
       "            color:  #000000;\n",
       "        }    #T_960b59ca_6f7b_11ea_a98a_74e5f9201330row6_col4 {\n",
       "            background-color:  #f7b497;\n",
       "            color:  #000000;\n",
       "        }    #T_960b59ca_6f7b_11ea_a98a_74e5f9201330row6_col5 {\n",
       "            background-color:  #f5c2aa;\n",
       "            color:  #000000;\n",
       "        }    #T_960b59ca_6f7b_11ea_a98a_74e5f9201330row6_col6 {\n",
       "            background-color:  #b40426;\n",
       "            color:  #f1f1f1;\n",
       "        }    #T_960b59ca_6f7b_11ea_a98a_74e5f9201330row6_col7 {\n",
       "            background-color:  #f5c2aa;\n",
       "            color:  #000000;\n",
       "        }    #T_960b59ca_6f7b_11ea_a98a_74e5f9201330row6_col8 {\n",
       "            background-color:  #d2dbe8;\n",
       "            color:  #000000;\n",
       "        }    #T_960b59ca_6f7b_11ea_a98a_74e5f9201330row6_col9 {\n",
       "            background-color:  #bbd1f8;\n",
       "            color:  #000000;\n",
       "        }    #T_960b59ca_6f7b_11ea_a98a_74e5f9201330row7_col0 {\n",
       "            background-color:  #a2c1ff;\n",
       "            color:  #000000;\n",
       "        }    #T_960b59ca_6f7b_11ea_a98a_74e5f9201330row7_col1 {\n",
       "            background-color:  #f7ad90;\n",
       "            color:  #000000;\n",
       "        }    #T_960b59ca_6f7b_11ea_a98a_74e5f9201330row7_col2 {\n",
       "            background-color:  #5977e3;\n",
       "            color:  #000000;\n",
       "        }    #T_960b59ca_6f7b_11ea_a98a_74e5f9201330row7_col3 {\n",
       "            background-color:  #f3c8b2;\n",
       "            color:  #000000;\n",
       "        }    #T_960b59ca_6f7b_11ea_a98a_74e5f9201330row7_col4 {\n",
       "            background-color:  #e7d7ce;\n",
       "            color:  #000000;\n",
       "        }    #T_960b59ca_6f7b_11ea_a98a_74e5f9201330row7_col5 {\n",
       "            background-color:  #edd2c3;\n",
       "            color:  #000000;\n",
       "        }    #T_960b59ca_6f7b_11ea_a98a_74e5f9201330row7_col6 {\n",
       "            background-color:  #f7b599;\n",
       "            color:  #000000;\n",
       "        }    #T_960b59ca_6f7b_11ea_a98a_74e5f9201330row7_col7 {\n",
       "            background-color:  #b40426;\n",
       "            color:  #f1f1f1;\n",
       "        }    #T_960b59ca_6f7b_11ea_a98a_74e5f9201330row7_col8 {\n",
       "            background-color:  #b9d0f9;\n",
       "            color:  #000000;\n",
       "        }    #T_960b59ca_6f7b_11ea_a98a_74e5f9201330row7_col9 {\n",
       "            background-color:  #a6c4fe;\n",
       "            color:  #000000;\n",
       "        }    #T_960b59ca_6f7b_11ea_a98a_74e5f9201330row8_col0 {\n",
       "            background-color:  #c5d6f2;\n",
       "            color:  #000000;\n",
       "        }    #T_960b59ca_6f7b_11ea_a98a_74e5f9201330row8_col1 {\n",
       "            background-color:  #f0cdbb;\n",
       "            color:  #000000;\n",
       "        }    #T_960b59ca_6f7b_11ea_a98a_74e5f9201330row8_col2 {\n",
       "            background-color:  #7093f3;\n",
       "            color:  #000000;\n",
       "        }    #T_960b59ca_6f7b_11ea_a98a_74e5f9201330row8_col3 {\n",
       "            background-color:  #cbd8ee;\n",
       "            color:  #000000;\n",
       "        }    #T_960b59ca_6f7b_11ea_a98a_74e5f9201330row8_col4 {\n",
       "            background-color:  #d6dce4;\n",
       "            color:  #000000;\n",
       "        }    #T_960b59ca_6f7b_11ea_a98a_74e5f9201330row8_col5 {\n",
       "            background-color:  #d9dce1;\n",
       "            color:  #000000;\n",
       "        }    #T_960b59ca_6f7b_11ea_a98a_74e5f9201330row8_col6 {\n",
       "            background-color:  #f2cbb7;\n",
       "            color:  #000000;\n",
       "        }    #T_960b59ca_6f7b_11ea_a98a_74e5f9201330row8_col7 {\n",
       "            background-color:  #d5dbe5;\n",
       "            color:  #000000;\n",
       "        }    #T_960b59ca_6f7b_11ea_a98a_74e5f9201330row8_col8 {\n",
       "            background-color:  #b40426;\n",
       "            color:  #f1f1f1;\n",
       "        }    #T_960b59ca_6f7b_11ea_a98a_74e5f9201330row8_col9 {\n",
       "            background-color:  #96b7ff;\n",
       "            color:  #000000;\n",
       "        }    #T_960b59ca_6f7b_11ea_a98a_74e5f9201330row9_col0 {\n",
       "            background-color:  #88abfd;\n",
       "            color:  #000000;\n",
       "        }    #T_960b59ca_6f7b_11ea_a98a_74e5f9201330row9_col1 {\n",
       "            background-color:  #f39475;\n",
       "            color:  #000000;\n",
       "        }    #T_960b59ca_6f7b_11ea_a98a_74e5f9201330row9_col2 {\n",
       "            background-color:  #9fbfff;\n",
       "            color:  #000000;\n",
       "        }    #T_960b59ca_6f7b_11ea_a98a_74e5f9201330row9_col3 {\n",
       "            background-color:  #d3dbe7;\n",
       "            color:  #000000;\n",
       "        }    #T_960b59ca_6f7b_11ea_a98a_74e5f9201330row9_col4 {\n",
       "            background-color:  #dfdbd9;\n",
       "            color:  #000000;\n",
       "        }    #T_960b59ca_6f7b_11ea_a98a_74e5f9201330row9_col5 {\n",
       "            background-color:  #cbd8ee;\n",
       "            color:  #000000;\n",
       "        }    #T_960b59ca_6f7b_11ea_a98a_74e5f9201330row9_col6 {\n",
       "            background-color:  #bfd3f6;\n",
       "            color:  #000000;\n",
       "        }    #T_960b59ca_6f7b_11ea_a98a_74e5f9201330row9_col7 {\n",
       "            background-color:  #8caffe;\n",
       "            color:  #000000;\n",
       "        }    #T_960b59ca_6f7b_11ea_a98a_74e5f9201330row9_col8 {\n",
       "            background-color:  #4961d2;\n",
       "            color:  #f1f1f1;\n",
       "        }    #T_960b59ca_6f7b_11ea_a98a_74e5f9201330row9_col9 {\n",
       "            background-color:  #b40426;\n",
       "            color:  #f1f1f1;\n",
       "        }</style><table id=\"T_960b59ca_6f7b_11ea_a98a_74e5f9201330\" ><thead>    <tr>        <th class=\"blank level0\" ></th>        <th class=\"col_heading level0 col0\" >Happiness Rank</th>        <th class=\"col_heading level0 col1\" >Happiness Score</th>        <th class=\"col_heading level0 col2\" >Standard Error</th>        <th class=\"col_heading level0 col3\" >Economy (GDP per Capita)</th>        <th class=\"col_heading level0 col4\" >Family</th>        <th class=\"col_heading level0 col5\" >Health (Life Expectancy)</th>        <th class=\"col_heading level0 col6\" >Freedom</th>        <th class=\"col_heading level0 col7\" >Trust (Government Corruption)</th>        <th class=\"col_heading level0 col8\" >Generosity</th>        <th class=\"col_heading level0 col9\" >Dystopia Residual</th>    </tr></thead><tbody>\n",
       "                <tr>\n",
       "                        <th id=\"T_960b59ca_6f7b_11ea_a98a_74e5f9201330level0_row0\" class=\"row_heading level0 row0\" >Happiness Rank</th>\n",
       "                        <td id=\"T_960b59ca_6f7b_11ea_a98a_74e5f9201330row0_col0\" class=\"data row0 col0\" >1.000000</td>\n",
       "                        <td id=\"T_960b59ca_6f7b_11ea_a98a_74e5f9201330row0_col1\" class=\"data row0 col1\" >-0.992105</td>\n",
       "                        <td id=\"T_960b59ca_6f7b_11ea_a98a_74e5f9201330row0_col2\" class=\"data row0 col2\" >0.158516</td>\n",
       "                        <td id=\"T_960b59ca_6f7b_11ea_a98a_74e5f9201330row0_col3\" class=\"data row0 col3\" >-0.785267</td>\n",
       "                        <td id=\"T_960b59ca_6f7b_11ea_a98a_74e5f9201330row0_col4\" class=\"data row0 col4\" >-0.733644</td>\n",
       "                        <td id=\"T_960b59ca_6f7b_11ea_a98a_74e5f9201330row0_col5\" class=\"data row0 col5\" >-0.735613</td>\n",
       "                        <td id=\"T_960b59ca_6f7b_11ea_a98a_74e5f9201330row0_col6\" class=\"data row0 col6\" >-0.556886</td>\n",
       "                        <td id=\"T_960b59ca_6f7b_11ea_a98a_74e5f9201330row0_col7\" class=\"data row0 col7\" >-0.372315</td>\n",
       "                        <td id=\"T_960b59ca_6f7b_11ea_a98a_74e5f9201330row0_col8\" class=\"data row0 col8\" >-0.160142</td>\n",
       "                        <td id=\"T_960b59ca_6f7b_11ea_a98a_74e5f9201330row0_col9\" class=\"data row0 col9\" >-0.521999</td>\n",
       "            </tr>\n",
       "            <tr>\n",
       "                        <th id=\"T_960b59ca_6f7b_11ea_a98a_74e5f9201330level0_row1\" class=\"row_heading level0 row1\" >Happiness Score</th>\n",
       "                        <td id=\"T_960b59ca_6f7b_11ea_a98a_74e5f9201330row1_col0\" class=\"data row1 col0\" >-0.992105</td>\n",
       "                        <td id=\"T_960b59ca_6f7b_11ea_a98a_74e5f9201330row1_col1\" class=\"data row1 col1\" >1.000000</td>\n",
       "                        <td id=\"T_960b59ca_6f7b_11ea_a98a_74e5f9201330row1_col2\" class=\"data row1 col2\" >-0.177254</td>\n",
       "                        <td id=\"T_960b59ca_6f7b_11ea_a98a_74e5f9201330row1_col3\" class=\"data row1 col3\" >0.780966</td>\n",
       "                        <td id=\"T_960b59ca_6f7b_11ea_a98a_74e5f9201330row1_col4\" class=\"data row1 col4\" >0.740605</td>\n",
       "                        <td id=\"T_960b59ca_6f7b_11ea_a98a_74e5f9201330row1_col5\" class=\"data row1 col5\" >0.724200</td>\n",
       "                        <td id=\"T_960b59ca_6f7b_11ea_a98a_74e5f9201330row1_col6\" class=\"data row1 col6\" >0.568211</td>\n",
       "                        <td id=\"T_960b59ca_6f7b_11ea_a98a_74e5f9201330row1_col7\" class=\"data row1 col7\" >0.395199</td>\n",
       "                        <td id=\"T_960b59ca_6f7b_11ea_a98a_74e5f9201330row1_col8\" class=\"data row1 col8\" >0.180319</td>\n",
       "                        <td id=\"T_960b59ca_6f7b_11ea_a98a_74e5f9201330row1_col9\" class=\"data row1 col9\" >0.530474</td>\n",
       "            </tr>\n",
       "            <tr>\n",
       "                        <th id=\"T_960b59ca_6f7b_11ea_a98a_74e5f9201330level0_row2\" class=\"row_heading level0 row2\" >Standard Error</th>\n",
       "                        <td id=\"T_960b59ca_6f7b_11ea_a98a_74e5f9201330row2_col0\" class=\"data row2 col0\" >0.158516</td>\n",
       "                        <td id=\"T_960b59ca_6f7b_11ea_a98a_74e5f9201330row2_col1\" class=\"data row2 col1\" >-0.177254</td>\n",
       "                        <td id=\"T_960b59ca_6f7b_11ea_a98a_74e5f9201330row2_col2\" class=\"data row2 col2\" >1.000000</td>\n",
       "                        <td id=\"T_960b59ca_6f7b_11ea_a98a_74e5f9201330row2_col3\" class=\"data row2 col3\" >-0.217651</td>\n",
       "                        <td id=\"T_960b59ca_6f7b_11ea_a98a_74e5f9201330row2_col4\" class=\"data row2 col4\" >-0.120728</td>\n",
       "                        <td id=\"T_960b59ca_6f7b_11ea_a98a_74e5f9201330row2_col5\" class=\"data row2 col5\" >-0.310287</td>\n",
       "                        <td id=\"T_960b59ca_6f7b_11ea_a98a_74e5f9201330row2_col6\" class=\"data row2 col6\" >-0.129773</td>\n",
       "                        <td id=\"T_960b59ca_6f7b_11ea_a98a_74e5f9201330row2_col7\" class=\"data row2 col7\" >-0.178325</td>\n",
       "                        <td id=\"T_960b59ca_6f7b_11ea_a98a_74e5f9201330row2_col8\" class=\"data row2 col8\" >-0.088439</td>\n",
       "                        <td id=\"T_960b59ca_6f7b_11ea_a98a_74e5f9201330row2_col9\" class=\"data row2 col9\" >0.083981</td>\n",
       "            </tr>\n",
       "            <tr>\n",
       "                        <th id=\"T_960b59ca_6f7b_11ea_a98a_74e5f9201330level0_row3\" class=\"row_heading level0 row3\" >Economy (GDP per Capita)</th>\n",
       "                        <td id=\"T_960b59ca_6f7b_11ea_a98a_74e5f9201330row3_col0\" class=\"data row3 col0\" >-0.785267</td>\n",
       "                        <td id=\"T_960b59ca_6f7b_11ea_a98a_74e5f9201330row3_col1\" class=\"data row3 col1\" >0.780966</td>\n",
       "                        <td id=\"T_960b59ca_6f7b_11ea_a98a_74e5f9201330row3_col2\" class=\"data row3 col2\" >-0.217651</td>\n",
       "                        <td id=\"T_960b59ca_6f7b_11ea_a98a_74e5f9201330row3_col3\" class=\"data row3 col3\" >1.000000</td>\n",
       "                        <td id=\"T_960b59ca_6f7b_11ea_a98a_74e5f9201330row3_col4\" class=\"data row3 col4\" >0.645299</td>\n",
       "                        <td id=\"T_960b59ca_6f7b_11ea_a98a_74e5f9201330row3_col5\" class=\"data row3 col5\" >0.816478</td>\n",
       "                        <td id=\"T_960b59ca_6f7b_11ea_a98a_74e5f9201330row3_col6\" class=\"data row3 col6\" >0.370300</td>\n",
       "                        <td id=\"T_960b59ca_6f7b_11ea_a98a_74e5f9201330row3_col7\" class=\"data row3 col7\" >0.307885</td>\n",
       "                        <td id=\"T_960b59ca_6f7b_11ea_a98a_74e5f9201330row3_col8\" class=\"data row3 col8\" >-0.010465</td>\n",
       "                        <td id=\"T_960b59ca_6f7b_11ea_a98a_74e5f9201330row3_col9\" class=\"data row3 col9\" >0.040059</td>\n",
       "            </tr>\n",
       "            <tr>\n",
       "                        <th id=\"T_960b59ca_6f7b_11ea_a98a_74e5f9201330level0_row4\" class=\"row_heading level0 row4\" >Family</th>\n",
       "                        <td id=\"T_960b59ca_6f7b_11ea_a98a_74e5f9201330row4_col0\" class=\"data row4 col0\" >-0.733644</td>\n",
       "                        <td id=\"T_960b59ca_6f7b_11ea_a98a_74e5f9201330row4_col1\" class=\"data row4 col1\" >0.740605</td>\n",
       "                        <td id=\"T_960b59ca_6f7b_11ea_a98a_74e5f9201330row4_col2\" class=\"data row4 col2\" >-0.120728</td>\n",
       "                        <td id=\"T_960b59ca_6f7b_11ea_a98a_74e5f9201330row4_col3\" class=\"data row4 col3\" >0.645299</td>\n",
       "                        <td id=\"T_960b59ca_6f7b_11ea_a98a_74e5f9201330row4_col4\" class=\"data row4 col4\" >1.000000</td>\n",
       "                        <td id=\"T_960b59ca_6f7b_11ea_a98a_74e5f9201330row4_col5\" class=\"data row4 col5\" >0.531104</td>\n",
       "                        <td id=\"T_960b59ca_6f7b_11ea_a98a_74e5f9201330row4_col6\" class=\"data row4 col6\" >0.441518</td>\n",
       "                        <td id=\"T_960b59ca_6f7b_11ea_a98a_74e5f9201330row4_col7\" class=\"data row4 col7\" >0.205605</td>\n",
       "                        <td id=\"T_960b59ca_6f7b_11ea_a98a_74e5f9201330row4_col8\" class=\"data row4 col8\" >0.087513</td>\n",
       "                        <td id=\"T_960b59ca_6f7b_11ea_a98a_74e5f9201330row4_col9\" class=\"data row4 col9\" >0.148117</td>\n",
       "            </tr>\n",
       "            <tr>\n",
       "                        <th id=\"T_960b59ca_6f7b_11ea_a98a_74e5f9201330level0_row5\" class=\"row_heading level0 row5\" >Health (Life Expectancy)</th>\n",
       "                        <td id=\"T_960b59ca_6f7b_11ea_a98a_74e5f9201330row5_col0\" class=\"data row5 col0\" >-0.735613</td>\n",
       "                        <td id=\"T_960b59ca_6f7b_11ea_a98a_74e5f9201330row5_col1\" class=\"data row5 col1\" >0.724200</td>\n",
       "                        <td id=\"T_960b59ca_6f7b_11ea_a98a_74e5f9201330row5_col2\" class=\"data row5 col2\" >-0.310287</td>\n",
       "                        <td id=\"T_960b59ca_6f7b_11ea_a98a_74e5f9201330row5_col3\" class=\"data row5 col3\" >0.816478</td>\n",
       "                        <td id=\"T_960b59ca_6f7b_11ea_a98a_74e5f9201330row5_col4\" class=\"data row5 col4\" >0.531104</td>\n",
       "                        <td id=\"T_960b59ca_6f7b_11ea_a98a_74e5f9201330row5_col5\" class=\"data row5 col5\" >1.000000</td>\n",
       "                        <td id=\"T_960b59ca_6f7b_11ea_a98a_74e5f9201330row5_col6\" class=\"data row5 col6\" >0.360477</td>\n",
       "                        <td id=\"T_960b59ca_6f7b_11ea_a98a_74e5f9201330row5_col7\" class=\"data row5 col7\" >0.248335</td>\n",
       "                        <td id=\"T_960b59ca_6f7b_11ea_a98a_74e5f9201330row5_col8\" class=\"data row5 col8\" >0.108335</td>\n",
       "                        <td id=\"T_960b59ca_6f7b_11ea_a98a_74e5f9201330row5_col9\" class=\"data row5 col9\" >0.018979</td>\n",
       "            </tr>\n",
       "            <tr>\n",
       "                        <th id=\"T_960b59ca_6f7b_11ea_a98a_74e5f9201330level0_row6\" class=\"row_heading level0 row6\" >Freedom</th>\n",
       "                        <td id=\"T_960b59ca_6f7b_11ea_a98a_74e5f9201330row6_col0\" class=\"data row6 col0\" >-0.556886</td>\n",
       "                        <td id=\"T_960b59ca_6f7b_11ea_a98a_74e5f9201330row6_col1\" class=\"data row6 col1\" >0.568211</td>\n",
       "                        <td id=\"T_960b59ca_6f7b_11ea_a98a_74e5f9201330row6_col2\" class=\"data row6 col2\" >-0.129773</td>\n",
       "                        <td id=\"T_960b59ca_6f7b_11ea_a98a_74e5f9201330row6_col3\" class=\"data row6 col3\" >0.370300</td>\n",
       "                        <td id=\"T_960b59ca_6f7b_11ea_a98a_74e5f9201330row6_col4\" class=\"data row6 col4\" >0.441518</td>\n",
       "                        <td id=\"T_960b59ca_6f7b_11ea_a98a_74e5f9201330row6_col5\" class=\"data row6 col5\" >0.360477</td>\n",
       "                        <td id=\"T_960b59ca_6f7b_11ea_a98a_74e5f9201330row6_col6\" class=\"data row6 col6\" >1.000000</td>\n",
       "                        <td id=\"T_960b59ca_6f7b_11ea_a98a_74e5f9201330row6_col7\" class=\"data row6 col7\" >0.493524</td>\n",
       "                        <td id=\"T_960b59ca_6f7b_11ea_a98a_74e5f9201330row6_col8\" class=\"data row6 col8\" >0.373916</td>\n",
       "                        <td id=\"T_960b59ca_6f7b_11ea_a98a_74e5f9201330row6_col9\" class=\"data row6 col9\" >0.062783</td>\n",
       "            </tr>\n",
       "            <tr>\n",
       "                        <th id=\"T_960b59ca_6f7b_11ea_a98a_74e5f9201330level0_row7\" class=\"row_heading level0 row7\" >Trust (Government Corruption)</th>\n",
       "                        <td id=\"T_960b59ca_6f7b_11ea_a98a_74e5f9201330row7_col0\" class=\"data row7 col0\" >-0.372315</td>\n",
       "                        <td id=\"T_960b59ca_6f7b_11ea_a98a_74e5f9201330row7_col1\" class=\"data row7 col1\" >0.395199</td>\n",
       "                        <td id=\"T_960b59ca_6f7b_11ea_a98a_74e5f9201330row7_col2\" class=\"data row7 col2\" >-0.178325</td>\n",
       "                        <td id=\"T_960b59ca_6f7b_11ea_a98a_74e5f9201330row7_col3\" class=\"data row7 col3\" >0.307885</td>\n",
       "                        <td id=\"T_960b59ca_6f7b_11ea_a98a_74e5f9201330row7_col4\" class=\"data row7 col4\" >0.205605</td>\n",
       "                        <td id=\"T_960b59ca_6f7b_11ea_a98a_74e5f9201330row7_col5\" class=\"data row7 col5\" >0.248335</td>\n",
       "                        <td id=\"T_960b59ca_6f7b_11ea_a98a_74e5f9201330row7_col6\" class=\"data row7 col6\" >0.493524</td>\n",
       "                        <td id=\"T_960b59ca_6f7b_11ea_a98a_74e5f9201330row7_col7\" class=\"data row7 col7\" >1.000000</td>\n",
       "                        <td id=\"T_960b59ca_6f7b_11ea_a98a_74e5f9201330row7_col8\" class=\"data row7 col8\" >0.276123</td>\n",
       "                        <td id=\"T_960b59ca_6f7b_11ea_a98a_74e5f9201330row7_col9\" class=\"data row7 col9\" >-0.033105</td>\n",
       "            </tr>\n",
       "            <tr>\n",
       "                        <th id=\"T_960b59ca_6f7b_11ea_a98a_74e5f9201330level0_row8\" class=\"row_heading level0 row8\" >Generosity</th>\n",
       "                        <td id=\"T_960b59ca_6f7b_11ea_a98a_74e5f9201330row8_col0\" class=\"data row8 col0\" >-0.160142</td>\n",
       "                        <td id=\"T_960b59ca_6f7b_11ea_a98a_74e5f9201330row8_col1\" class=\"data row8 col1\" >0.180319</td>\n",
       "                        <td id=\"T_960b59ca_6f7b_11ea_a98a_74e5f9201330row8_col2\" class=\"data row8 col2\" >-0.088439</td>\n",
       "                        <td id=\"T_960b59ca_6f7b_11ea_a98a_74e5f9201330row8_col3\" class=\"data row8 col3\" >-0.010465</td>\n",
       "                        <td id=\"T_960b59ca_6f7b_11ea_a98a_74e5f9201330row8_col4\" class=\"data row8 col4\" >0.087513</td>\n",
       "                        <td id=\"T_960b59ca_6f7b_11ea_a98a_74e5f9201330row8_col5\" class=\"data row8 col5\" >0.108335</td>\n",
       "                        <td id=\"T_960b59ca_6f7b_11ea_a98a_74e5f9201330row8_col6\" class=\"data row8 col6\" >0.373916</td>\n",
       "                        <td id=\"T_960b59ca_6f7b_11ea_a98a_74e5f9201330row8_col7\" class=\"data row8 col7\" >0.276123</td>\n",
       "                        <td id=\"T_960b59ca_6f7b_11ea_a98a_74e5f9201330row8_col8\" class=\"data row8 col8\" >1.000000</td>\n",
       "                        <td id=\"T_960b59ca_6f7b_11ea_a98a_74e5f9201330row8_col9\" class=\"data row8 col9\" >-0.101301</td>\n",
       "            </tr>\n",
       "            <tr>\n",
       "                        <th id=\"T_960b59ca_6f7b_11ea_a98a_74e5f9201330level0_row9\" class=\"row_heading level0 row9\" >Dystopia Residual</th>\n",
       "                        <td id=\"T_960b59ca_6f7b_11ea_a98a_74e5f9201330row9_col0\" class=\"data row9 col0\" >-0.521999</td>\n",
       "                        <td id=\"T_960b59ca_6f7b_11ea_a98a_74e5f9201330row9_col1\" class=\"data row9 col1\" >0.530474</td>\n",
       "                        <td id=\"T_960b59ca_6f7b_11ea_a98a_74e5f9201330row9_col2\" class=\"data row9 col2\" >0.083981</td>\n",
       "                        <td id=\"T_960b59ca_6f7b_11ea_a98a_74e5f9201330row9_col3\" class=\"data row9 col3\" >0.040059</td>\n",
       "                        <td id=\"T_960b59ca_6f7b_11ea_a98a_74e5f9201330row9_col4\" class=\"data row9 col4\" >0.148117</td>\n",
       "                        <td id=\"T_960b59ca_6f7b_11ea_a98a_74e5f9201330row9_col5\" class=\"data row9 col5\" >0.018979</td>\n",
       "                        <td id=\"T_960b59ca_6f7b_11ea_a98a_74e5f9201330row9_col6\" class=\"data row9 col6\" >0.062783</td>\n",
       "                        <td id=\"T_960b59ca_6f7b_11ea_a98a_74e5f9201330row9_col7\" class=\"data row9 col7\" >-0.033105</td>\n",
       "                        <td id=\"T_960b59ca_6f7b_11ea_a98a_74e5f9201330row9_col8\" class=\"data row9 col8\" >-0.101301</td>\n",
       "                        <td id=\"T_960b59ca_6f7b_11ea_a98a_74e5f9201330row9_col9\" class=\"data row9 col9\" >1.000000</td>\n",
       "            </tr>\n",
       "    </tbody></table>"
      ],
      "text/plain": [
       "<pandas.io.formats.style.Styler at 0x1ba2b3d6948>"
      ]
     },
     "execution_count": 35,
     "metadata": {},
     "output_type": "execute_result"
    }
   ],
   "source": [
    "whr2015.corr().style.background_gradient(cmap=\"coolwarm\")"
   ]
  },
  {
   "cell_type": "markdown",
   "metadata": {},
   "source": [
    "Lanza hipotesis"
   ]
  },
  {
   "cell_type": "markdown",
   "metadata": {
    "heading_collapsed": true
   },
   "source": [
    "## 3. Features should be investigated in depth combining datasets"
   ]
  },
  {
   "cell_type": "markdown",
   "metadata": {
    "hidden": true
   },
   "source": [
    "retocamos objetivos"
   ]
  },
  {
   "cell_type": "markdown",
   "metadata": {
    "heading_collapsed": true
   },
   "source": [
    "## 4. Data cleaning & manipulation. Apply the following techniques as appropriate:"
   ]
  },
  {
   "cell_type": "markdown",
   "metadata": {
    "heading_collapsed": true,
    "hidden": true
   },
   "source": [
    "### 1. Adjust skewed data distribution."
   ]
  },
  {
   "cell_type": "markdown",
   "metadata": {
    "hidden": true
   },
   "source": [
    "### 2. Remove columns with high proportion of missing values."
   ]
  },
  {
   "cell_type": "markdown",
   "metadata": {
    "hidden": true
   },
   "source": [
    "### 3. Remove records with missing values."
   ]
  },
  {
   "cell_type": "markdown",
   "metadata": {
    "hidden": true
   },
   "source": [
    "### 4. Feature reduction."
   ]
  },
  {
   "cell_type": "markdown",
   "metadata": {
    "hidden": true
   },
   "source": [
    "### 5. Convert categorical data to numerical."
   ]
  },
  {
   "cell_type": "markdown",
   "metadata": {
    "heading_collapsed": true
   },
   "source": [
    "## 5. Compute field relationship scores with the chosen statistical model."
   ]
  },
  {
   "cell_type": "markdown",
   "metadata": {},
   "source": [
    "## 6. Present your findings in statistical summary and/or data visualizations."
   ]
  },
  {
   "cell_type": "code",
   "execution_count": null,
   "metadata": {},
   "outputs": [],
   "source": []
  }
 ],
 "metadata": {
  "kernelspec": {
   "display_name": "Python 3",
   "language": "python",
   "name": "python3"
  },
  "language_info": {
   "codemirror_mode": {
    "name": "ipython",
    "version": 3
   },
   "file_extension": ".py",
   "mimetype": "text/x-python",
   "name": "python",
   "nbconvert_exporter": "python",
   "pygments_lexer": "ipython3",
   "version": "3.7.6"
  },
  "varInspector": {
   "cols": {
    "lenName": 16,
    "lenType": 16,
    "lenVar": 40
   },
   "kernels_config": {
    "python": {
     "delete_cmd_postfix": "",
     "delete_cmd_prefix": "del ",
     "library": "var_list.py",
     "varRefreshCmd": "print(var_dic_list())"
    },
    "r": {
     "delete_cmd_postfix": ") ",
     "delete_cmd_prefix": "rm(",
     "library": "var_list.r",
     "varRefreshCmd": "cat(var_dic_list()) "
    }
   },
   "types_to_exclude": [
    "module",
    "function",
    "builtin_function_or_method",
    "instance",
    "_Feature"
   ],
   "window_display": false
  }
 },
 "nbformat": 4,
 "nbformat_minor": 2
}
